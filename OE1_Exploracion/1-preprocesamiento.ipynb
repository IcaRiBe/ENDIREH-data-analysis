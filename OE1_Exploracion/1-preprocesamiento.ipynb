{
 "cells": [
  {
   "cell_type": "markdown",
   "metadata": {},
   "source": [
    "# Preprocesamiento de datos"
   ]
  },
  {
   "cell_type": "markdown",
   "metadata": {},
   "source": [
    "## Librerías"
   ]
  },
  {
   "cell_type": "code",
   "execution_count": 127,
   "metadata": {},
   "outputs": [],
   "source": [
    "import pandas as pd\n",
    "import numpy as np\n",
    "import random\n",
    "import copy\n",
    "from sklearn.preprocessing import LabelEncoder\n",
    "from sklearn import preprocessing"
   ]
  },
  {
   "cell_type": "markdown",
   "metadata": {},
   "source": [
    "## Funciones"
   ]
  },
  {
   "cell_type": "code",
   "execution_count": 128,
   "metadata": {},
   "outputs": [],
   "source": [
    "def CargarPandasDataset(ruta):\n",
    "    \"\"\"\n",
    "    Carga un dataset de pandas a partir de un archivo csv con espacios vacios representados por un \\r\n",
    "    Recibe:\n",
    "        ruta_parcial: string con la ruta parcial o absoluta al archivo csv.\n",
    "    Devuelve:\n",
    "        pandas dataset\n",
    "    \"\"\"\n",
    "    return pd.read_csv(ruta, na_values=['\\r'])\n",
    "\n",
    "def GuardarDataset(df, name):\n",
    "    \"\"\"\n",
    "    Guarda el dataset de pandas en la carpeta datsets\n",
    "    Recibe:\n",
    "          df: dataset de pandas\n",
    "        name: nombre con el que será guardado\n",
    "    Devuelve:\n",
    "        nada\n",
    "    \"\"\"\n",
    "    df.to_csv(f\"datasets/{name}\")\n",
    "    return\n",
    "\n",
    "def ModificarColumnasValor(df, cols, valorR, valorN):\n",
    "    \"\"\"\n",
    "    Modifica las columnas indicadas del dataframe de pandas donde un valor deba ser reemplazado por un valor nuevo\n",
    "    Recibe:\n",
    "            df: dataset de pandas\n",
    "          cols: columnas a remplazar valores\n",
    "        valorR: valor a remplazar\n",
    "        valorN: valor nuevo\n",
    "    Devuelve:\n",
    "        nada\n",
    "    \"\"\"\n",
    "    for c in cols:\n",
    "        df.loc[df[c]==valorR, c] = valorN\n",
    "    return\n",
    "\n",
    "def BorrarColumnas(df, cols, inplace=True):\n",
    "    \"\"\"\n",
    "    Borras columnas de un pandas dataframe\n",
    "    Recibe:\n",
    "             df: dataset de pandas\n",
    "           cols: columnas a remplazar valores\n",
    "        inplace: si el borrado de columnas será inplace\n",
    "    Devuelve:\n",
    "        si inplace es True : nada\n",
    "        si inplace es False: pandas dataframe\n",
    "    \"\"\"\n",
    "    df.drop(labels=cols, axis=1, inplace=inplace)\n",
    "    if not inplace:\n",
    "        return df\n",
    "\n",
    "def InsertarColumnaNueva(df, nombreCol, numeroCol, funcion):\n",
    "    \"\"\"\n",
    "    Inserta una columna nueva nombreCol, en la posicion numero col, en el dataset de pandas df, en base a la funcion \n",
    "    Recibe:\n",
    "               df: dataset de pandas\n",
    "        nombreCol: nombre de la columna nueva\n",
    "        numeroCol: numero de columna donde se insertará\n",
    "          funcion: funcion de Python\n",
    "    Devuelve:\n",
    "        pandas dataset\n",
    "    \"\"\"\n",
    "    df_copy = copy.copy(df)\n",
    "    df_copy.insert(numeroCol, nombreCol, df.apply(funcion, axis=1))\n",
    "    return df_copy\n",
    "\n",
    "def transformColumn(col):\n",
    "    \"\"\"\n",
    "    Encodea la columna de 0 a n-1, siendo n el numero de clases en la columna usando un LabelEncoder de sklearn llamado lb\n",
    "    Recibe:\n",
    "        col: columna de pandas\n",
    "    Devuelve:\n",
    "        la columna transformada\n",
    "    \"\"\"\n",
    "    return lb.fit_transform(col)"
   ]
  },
  {
   "cell_type": "code",
   "execution_count": 129,
   "metadata": {},
   "outputs": [],
   "source": [
    "def RegionesDeMexico(row):\n",
    "    if   row['NOM_ENT'] in ['Baja California\\r', 'Baja California Sur\\r', 'Sonora\\r', 'Sinaloa\\r', 'Nayarit\\r']:\n",
    "        val = 0\n",
    "    elif row['NOM_ENT'] in ['Chihuahua\\r', 'Coahuila de Zaragoza\\r', 'Durango\\r', 'Zacatecas\\r', 'San Luis Potosi\\r']:\n",
    "        val = 1\n",
    "    elif row['NOM_ENT'] in ['Nuevo Leon\\r', 'Tamaulipas\\r']:\n",
    "        val = 2\n",
    "    elif row['NOM_ENT'] in ['Jalisco\\r', 'Aguascalientes\\r', 'Guanajuato\\r', 'Colima\\r', 'Michoacan de Ocampo\\r']:\n",
    "        val = 3\n",
    "    elif row['NOM_ENT'] in ['Queretaro\\r', 'Hidalgo\\r', 'Estado de Mexico\\r',  'Ciudad de Mexico\\r','Morelos\\r', 'Puebla\\r', 'Tlaxcala\\r']:\n",
    "        val = 4\n",
    "    elif row['NOM_ENT'] in ['Veracruz de Ignacio de la Llave\\r', 'Tabasco\\r']:\n",
    "        val = 5\n",
    "    elif row['NOM_ENT'] in ['Guerrero\\r', 'Oaxaca\\r', 'Chiapas\\r']:\n",
    "        val = 6\n",
    "    elif row['NOM_ENT'] in ['Campeche\\r', 'Yucatan\\r', 'Quintana Roo\\r']:\n",
    "        val = 7\n",
    "    return val\n",
    "\n",
    "def Clasificacion(row):\n",
    "    # va de menor a mayor gravedad\n",
    "    val = 0 #ninguno\n",
    "    \n",
    "    #abuso y violencia\n",
    "    if row['P9_8_1'] == 1.0 or row['P9_8_2'] == 1.0 or row['P9_8_3'] == 1.0 or row['P9_8_4'] == 1.0 or row['P9_8_5'] == 1.0 or row['P9_8_6'] == 1.0:\n",
    "        val = 1\n",
    "    \n",
    "    #atencion no autorizada\n",
    "    if row['P9_8_7'] == 1.0 or row['P9_8_8'] == 1.0 or row['P9_8_9'] == 1.0 or row['P9_8_10'] == 1.0 or row['P9_8_14'] == 4.0:\n",
    "        val = 2\n",
    "    \n",
    "    return val"
   ]
  },
  {
   "cell_type": "markdown",
   "metadata": {},
   "source": [
    "## Seccion I"
   ]
  },
  {
   "cell_type": "markdown",
   "metadata": {},
   "source": [
    "### Cargar datos"
   ]
  },
  {
   "cell_type": "code",
   "execution_count": 130,
   "metadata": {},
   "outputs": [
    {
     "data": {
      "text/html": [
       "<div>\n",
       "<style scoped>\n",
       "    .dataframe tbody tr th:only-of-type {\n",
       "        vertical-align: middle;\n",
       "    }\n",
       "\n",
       "    .dataframe tbody tr th {\n",
       "        vertical-align: top;\n",
       "    }\n",
       "\n",
       "    .dataframe thead th {\n",
       "        text-align: right;\n",
       "    }\n",
       "</style>\n",
       "<table border=\"1\" class=\"dataframe\">\n",
       "  <thead>\n",
       "    <tr style=\"text-align: right;\">\n",
       "      <th></th>\n",
       "      <th>ID_VIV</th>\n",
       "      <th>UPM</th>\n",
       "      <th>PROG</th>\n",
       "      <th>VIV_SEL</th>\n",
       "      <th>CVE_ENT</th>\n",
       "      <th>NOM_ENT</th>\n",
       "      <th>CVE_MUN</th>\n",
       "      <th>NOM_MUN</th>\n",
       "      <th>COD_RES</th>\n",
       "      <th>P1_1</th>\n",
       "      <th>...</th>\n",
       "      <th>P1_9</th>\n",
       "      <th>P1_10_1</th>\n",
       "      <th>P1_10_2</th>\n",
       "      <th>P1_10_3</th>\n",
       "      <th>P1_10_4</th>\n",
       "      <th>FAC_VIV</th>\n",
       "      <th>DOMINIO</th>\n",
       "      <th>EST_DIS</th>\n",
       "      <th>UPM_DIS</th>\n",
       "      <th>ESTRATO</th>\n",
       "    </tr>\n",
       "  </thead>\n",
       "  <tbody>\n",
       "    <tr>\n",
       "      <th>83867</th>\n",
       "      <td>2260379.02</td>\n",
       "      <td>2260379</td>\n",
       "      <td>154</td>\n",
       "      <td>2</td>\n",
       "      <td>22</td>\n",
       "      <td>Queretaro\\r</td>\n",
       "      <td>6</td>\n",
       "      <td>Corregidora\\r</td>\n",
       "      <td>1</td>\n",
       "      <td>2</td>\n",
       "      <td>...</td>\n",
       "      <td>2.0</td>\n",
       "      <td>0.0</td>\n",
       "      <td>1.0</td>\n",
       "      <td>0.0</td>\n",
       "      <td>0.0</td>\n",
       "      <td>132</td>\n",
       "      <td>R\\r</td>\n",
       "      <td>4080</td>\n",
       "      <td>12538</td>\n",
       "      <td>2</td>\n",
       "    </tr>\n",
       "    <tr>\n",
       "      <th>107779</th>\n",
       "      <td>2900558.02</td>\n",
       "      <td>2900558</td>\n",
       "      <td>124</td>\n",
       "      <td>2</td>\n",
       "      <td>29</td>\n",
       "      <td>Tlaxcala\\r</td>\n",
       "      <td>25</td>\n",
       "      <td>San Pablo del Monte\\r</td>\n",
       "      <td>1</td>\n",
       "      <td>2</td>\n",
       "      <td>...</td>\n",
       "      <td>NaN</td>\n",
       "      <td>NaN</td>\n",
       "      <td>NaN</td>\n",
       "      <td>NaN</td>\n",
       "      <td>NaN</td>\n",
       "      <td>91</td>\n",
       "      <td>U\\r</td>\n",
       "      <td>5340</td>\n",
       "      <td>16156</td>\n",
       "      <td>2</td>\n",
       "    </tr>\n",
       "    <tr>\n",
       "      <th>25309</th>\n",
       "      <td>760617.01</td>\n",
       "      <td>760617</td>\n",
       "      <td>51</td>\n",
       "      <td>1</td>\n",
       "      <td>7</td>\n",
       "      <td>Chiapas\\r</td>\n",
       "      <td>18</td>\n",
       "      <td>Coapilla\\r</td>\n",
       "      <td>1</td>\n",
       "      <td>2</td>\n",
       "      <td>...</td>\n",
       "      <td>NaN</td>\n",
       "      <td>NaN</td>\n",
       "      <td>NaN</td>\n",
       "      <td>NaN</td>\n",
       "      <td>NaN</td>\n",
       "      <td>341</td>\n",
       "      <td>R\\r</td>\n",
       "      <td>1290</td>\n",
       "      <td>4017</td>\n",
       "      <td>1</td>\n",
       "    </tr>\n",
       "    <tr>\n",
       "      <th>64234</th>\n",
       "      <td>1800193.01</td>\n",
       "      <td>1800193</td>\n",
       "      <td>48</td>\n",
       "      <td>1</td>\n",
       "      <td>18</td>\n",
       "      <td>Nayarit\\r</td>\n",
       "      <td>17</td>\n",
       "      <td>Tepic\\r</td>\n",
       "      <td>1</td>\n",
       "      <td>2</td>\n",
       "      <td>...</td>\n",
       "      <td>NaN</td>\n",
       "      <td>NaN</td>\n",
       "      <td>NaN</td>\n",
       "      <td>NaN</td>\n",
       "      <td>NaN</td>\n",
       "      <td>99</td>\n",
       "      <td>U\\r</td>\n",
       "      <td>3220</td>\n",
       "      <td>9834</td>\n",
       "      <td>3</td>\n",
       "    </tr>\n",
       "    <tr>\n",
       "      <th>81171</th>\n",
       "      <td>2200733.01</td>\n",
       "      <td>2200733</td>\n",
       "      <td>82</td>\n",
       "      <td>1</td>\n",
       "      <td>22</td>\n",
       "      <td>Queretaro\\r</td>\n",
       "      <td>14</td>\n",
       "      <td>Querétaro\\r</td>\n",
       "      <td>1</td>\n",
       "      <td>2</td>\n",
       "      <td>...</td>\n",
       "      <td>NaN</td>\n",
       "      <td>NaN</td>\n",
       "      <td>NaN</td>\n",
       "      <td>NaN</td>\n",
       "      <td>NaN</td>\n",
       "      <td>132</td>\n",
       "      <td>U\\r</td>\n",
       "      <td>3930</td>\n",
       "      <td>12132</td>\n",
       "      <td>3</td>\n",
       "    </tr>\n",
       "  </tbody>\n",
       "</table>\n",
       "<p>5 rows × 36 columns</p>\n",
       "</div>"
      ],
      "text/plain": [
       "            ID_VIV      UPM  PROG  VIV_SEL  CVE_ENT      NOM_ENT  CVE_MUN  \\\n",
       "83867   2260379.02  2260379   154        2       22  Queretaro\\r        6   \n",
       "107779  2900558.02  2900558   124        2       29   Tlaxcala\\r       25   \n",
       "25309    760617.01   760617    51        1        7    Chiapas\\r       18   \n",
       "64234   1800193.01  1800193    48        1       18    Nayarit\\r       17   \n",
       "81171   2200733.01  2200733    82        1       22  Queretaro\\r       14   \n",
       "\n",
       "                      NOM_MUN  COD_RES  P1_1   ...     P1_9  P1_10_1  P1_10_2  \\\n",
       "83867           Corregidora\\r        1     2   ...      2.0      0.0      1.0   \n",
       "107779  San Pablo del Monte\\r        1     2   ...      NaN      NaN      NaN   \n",
       "25309              Coapilla\\r        1     2   ...      NaN      NaN      NaN   \n",
       "64234                 Tepic\\r        1     2   ...      NaN      NaN      NaN   \n",
       "81171             Querétaro\\r        1     2   ...      NaN      NaN      NaN   \n",
       "\n",
       "        P1_10_3  P1_10_4  FAC_VIV  DOMINIO  EST_DIS  UPM_DIS  ESTRATO  \n",
       "83867       0.0      0.0      132      R\\r     4080    12538        2  \n",
       "107779      NaN      NaN       91      U\\r     5340    16156        2  \n",
       "25309       NaN      NaN      341      R\\r     1290     4017        1  \n",
       "64234       NaN      NaN       99      U\\r     3220     9834        3  \n",
       "81171       NaN      NaN      132      U\\r     3930    12132        3  \n",
       "\n",
       "[5 rows x 36 columns]"
      ]
     },
     "execution_count": 130,
     "metadata": {},
     "output_type": "execute_result"
    }
   ],
   "source": [
    "ruta_parcial = \"../../conjunto_de_datos_endireh_2016_csv/conjunto_de_datos_tviv_endireh_2016/conjunto_de_datos/conjunto_de_datos_tviv_endireh_2016.csv\"\n",
    "\n",
    "seccionI = CargarPandasDataset(ruta_parcial)\n",
    "\n",
    "#seccionI.iloc[random.choices(range(seccionI.shape[0]), k=5)]\n",
    "seccionI.iloc[[83867, 107779, 25309, 64234, 81171]]"
   ]
  },
  {
   "cell_type": "markdown",
   "metadata": {},
   "source": [
    "### Hacer columnas One Hot Encoding"
   ]
  },
  {
   "cell_type": "code",
   "execution_count": 131,
   "metadata": {},
   "outputs": [],
   "source": [
    "columnasOHE = [f'P1_4_{i}' for i in range(1,10)]\n",
    "columnasOHE.append('P1_8')\n",
    "\n",
    "ModificarColumnasValor(df=seccionI, cols=columnasOHE, valorR=2, valorN=0)"
   ]
  },
  {
   "cell_type": "markdown",
   "metadata": {},
   "source": [
    "### Borrar columnas"
   ]
  },
  {
   "cell_type": "code",
   "execution_count": 132,
   "metadata": {},
   "outputs": [],
   "source": [
    "labels = ['CVE_ENT', 'NOM_ENT', 'CVE_MUN', 'NOM_MUN', 'COD_RES', 'UPM', 'PROG','FAC_VIV', 'EST_DIS', 'UPM_DIS', 'ESTRATO', 'DOMINIO']\n",
    "\n",
    "BorrarColumnas(df=seccionI, cols=labels, inplace=True)"
   ]
  },
  {
   "cell_type": "markdown",
   "metadata": {},
   "source": [
    "### Guardar dataset"
   ]
  },
  {
   "cell_type": "code",
   "execution_count": 133,
   "metadata": {},
   "outputs": [],
   "source": [
    "GuardarDataset(df=seccionI, name='sec_i.csv')"
   ]
  },
  {
   "cell_type": "markdown",
   "metadata": {},
   "source": [
    "## Seccion II"
   ]
  },
  {
   "cell_type": "markdown",
   "metadata": {},
   "source": [
    "### Cargar los datos"
   ]
  },
  {
   "cell_type": "code",
   "execution_count": 134,
   "metadata": {},
   "outputs": [
    {
     "data": {
      "text/html": [
       "<div>\n",
       "<style scoped>\n",
       "    .dataframe tbody tr th:only-of-type {\n",
       "        vertical-align: middle;\n",
       "    }\n",
       "\n",
       "    .dataframe tbody tr th {\n",
       "        vertical-align: top;\n",
       "    }\n",
       "\n",
       "    .dataframe thead th {\n",
       "        text-align: right;\n",
       "    }\n",
       "</style>\n",
       "<table border=\"1\" class=\"dataframe\">\n",
       "  <thead>\n",
       "    <tr style=\"text-align: right;\">\n",
       "      <th></th>\n",
       "      <th>ID_VIV</th>\n",
       "      <th>ID_MUJ</th>\n",
       "      <th>UPM</th>\n",
       "      <th>PROG</th>\n",
       "      <th>VIV_SEL</th>\n",
       "      <th>CVE_ENT</th>\n",
       "      <th>NOM_ENT</th>\n",
       "      <th>CVE_MUN</th>\n",
       "      <th>NOM_MUN</th>\n",
       "      <th>HOGAR</th>\n",
       "      <th>...</th>\n",
       "      <th>REN_INF_AD</th>\n",
       "      <th>FN_DIA</th>\n",
       "      <th>FN_MES</th>\n",
       "      <th>FAC_VIV</th>\n",
       "      <th>FAC_MUJ</th>\n",
       "      <th>DOMINIO</th>\n",
       "      <th>ESTRATO</th>\n",
       "      <th>EST_DIS</th>\n",
       "      <th>UPM_DIS</th>\n",
       "      <th>COD_M15</th>\n",
       "    </tr>\n",
       "  </thead>\n",
       "  <tbody>\n",
       "    <tr>\n",
       "      <th>344569</th>\n",
       "      <td>2500042.03</td>\n",
       "      <td>2500042.03.01.03\\r</td>\n",
       "      <td>2500042</td>\n",
       "      <td>133</td>\n",
       "      <td>3</td>\n",
       "      <td>25</td>\n",
       "      <td>Sinaloa\\r</td>\n",
       "      <td>1</td>\n",
       "      <td>Ahome\\r</td>\n",
       "      <td>1</td>\n",
       "      <td>...</td>\n",
       "      <td>NaN</td>\n",
       "      <td>NaN</td>\n",
       "      <td>NaN</td>\n",
       "      <td>240</td>\n",
       "      <td>0</td>\n",
       "      <td>U\\r</td>\n",
       "      <td>4</td>\n",
       "      <td>4520</td>\n",
       "      <td>13793</td>\n",
       "      <td>1.0</td>\n",
       "    </tr>\n",
       "    <tr>\n",
       "      <th>325358</th>\n",
       "      <td>2302612.03</td>\n",
       "      <td>2302612.03.01.04\\r</td>\n",
       "      <td>2302612</td>\n",
       "      <td>65</td>\n",
       "      <td>3</td>\n",
       "      <td>23</td>\n",
       "      <td>Quintana Roo\\r</td>\n",
       "      <td>8</td>\n",
       "      <td>Solidaridad\\r</td>\n",
       "      <td>1</td>\n",
       "      <td>...</td>\n",
       "      <td>NaN</td>\n",
       "      <td>NaN</td>\n",
       "      <td>NaN</td>\n",
       "      <td>151</td>\n",
       "      <td>0</td>\n",
       "      <td>U\\r</td>\n",
       "      <td>2</td>\n",
       "      <td>4190</td>\n",
       "      <td>13132</td>\n",
       "      <td>NaN</td>\n",
       "    </tr>\n",
       "    <tr>\n",
       "      <th>262927</th>\n",
       "      <td>1907549.04</td>\n",
       "      <td>1907549.04.01.05\\r</td>\n",
       "      <td>1907549</td>\n",
       "      <td>67</td>\n",
       "      <td>4</td>\n",
       "      <td>19</td>\n",
       "      <td>Nuevo Leon\\r</td>\n",
       "      <td>39</td>\n",
       "      <td>Monterrey\\r</td>\n",
       "      <td>1</td>\n",
       "      <td>...</td>\n",
       "      <td>NaN</td>\n",
       "      <td>NaN</td>\n",
       "      <td>NaN</td>\n",
       "      <td>329</td>\n",
       "      <td>0</td>\n",
       "      <td>U\\r</td>\n",
       "      <td>2</td>\n",
       "      <td>3330</td>\n",
       "      <td>10733</td>\n",
       "      <td>NaN</td>\n",
       "    </tr>\n",
       "    <tr>\n",
       "      <th>446219</th>\n",
       "      <td>3201482.02</td>\n",
       "      <td>3201482.02.01.03\\r</td>\n",
       "      <td>3201482</td>\n",
       "      <td>164</td>\n",
       "      <td>2</td>\n",
       "      <td>32</td>\n",
       "      <td>Zacatecas\\r</td>\n",
       "      <td>36</td>\n",
       "      <td>Ojocaliente\\r</td>\n",
       "      <td>1</td>\n",
       "      <td>...</td>\n",
       "      <td>NaN</td>\n",
       "      <td>NaN</td>\n",
       "      <td>NaN</td>\n",
       "      <td>112</td>\n",
       "      <td>0</td>\n",
       "      <td>C\\r</td>\n",
       "      <td>2</td>\n",
       "      <td>6140</td>\n",
       "      <td>17851</td>\n",
       "      <td>NaN</td>\n",
       "    </tr>\n",
       "    <tr>\n",
       "      <th>138376</th>\n",
       "      <td>1060160.06</td>\n",
       "      <td>1060160.06.01.04\\r</td>\n",
       "      <td>1060160</td>\n",
       "      <td>118</td>\n",
       "      <td>6</td>\n",
       "      <td>10</td>\n",
       "      <td>Durango\\r</td>\n",
       "      <td>4</td>\n",
       "      <td>Cuencamé\\r</td>\n",
       "      <td>1</td>\n",
       "      <td>...</td>\n",
       "      <td>NaN</td>\n",
       "      <td>NaN</td>\n",
       "      <td>NaN</td>\n",
       "      <td>159</td>\n",
       "      <td>0</td>\n",
       "      <td>R\\r</td>\n",
       "      <td>1</td>\n",
       "      <td>1730</td>\n",
       "      <td>6191</td>\n",
       "      <td>NaN</td>\n",
       "    </tr>\n",
       "  </tbody>\n",
       "</table>\n",
       "<p>5 rows × 42 columns</p>\n",
       "</div>"
      ],
      "text/plain": [
       "            ID_VIV              ID_MUJ      UPM  PROG  VIV_SEL  CVE_ENT  \\\n",
       "344569  2500042.03  2500042.03.01.03\\r  2500042   133        3       25   \n",
       "325358  2302612.03  2302612.03.01.04\\r  2302612    65        3       23   \n",
       "262927  1907549.04  1907549.04.01.05\\r  1907549    67        4       19   \n",
       "446219  3201482.02  3201482.02.01.03\\r  3201482   164        2       32   \n",
       "138376  1060160.06  1060160.06.01.04\\r  1060160   118        6       10   \n",
       "\n",
       "               NOM_ENT  CVE_MUN        NOM_MUN  HOGAR   ...     REN_INF_AD  \\\n",
       "344569       Sinaloa\\r        1        Ahome\\r      1   ...            NaN   \n",
       "325358  Quintana Roo\\r        8  Solidaridad\\r      1   ...            NaN   \n",
       "262927    Nuevo Leon\\r       39    Monterrey\\r      1   ...            NaN   \n",
       "446219     Zacatecas\\r       36  Ojocaliente\\r      1   ...            NaN   \n",
       "138376       Durango\\r        4     Cuencamé\\r      1   ...            NaN   \n",
       "\n",
       "        FN_DIA  FN_MES  FAC_VIV  FAC_MUJ  DOMINIO  ESTRATO  EST_DIS  UPM_DIS  \\\n",
       "344569     NaN     NaN      240        0      U\\r        4     4520    13793   \n",
       "325358     NaN     NaN      151        0      U\\r        2     4190    13132   \n",
       "262927     NaN     NaN      329        0      U\\r        2     3330    10733   \n",
       "446219     NaN     NaN      112        0      C\\r        2     6140    17851   \n",
       "138376     NaN     NaN      159        0      R\\r        1     1730     6191   \n",
       "\n",
       "        COD_M15  \n",
       "344569      1.0  \n",
       "325358      NaN  \n",
       "262927      NaN  \n",
       "446219      NaN  \n",
       "138376      NaN  \n",
       "\n",
       "[5 rows x 42 columns]"
      ]
     },
     "execution_count": 134,
     "metadata": {},
     "output_type": "execute_result"
    }
   ],
   "source": [
    "ruta_parcial = \"../../conjunto_de_datos_endireh_2016_csv/conjunto_de_datos_tsdem_endireh_2016/conjunto_de_datos/conjunto_de_datos_tsdem_endireh_2016.csv\"\n",
    "\n",
    "seccionII = CargarPandasDataset(ruta_parcial)\n",
    "\n",
    "seccionII.iloc[random.choices(range(seccionII.shape[0]), k=5)]"
   ]
  },
  {
   "cell_type": "markdown",
   "metadata": {},
   "source": [
    "### Modificar columnas a OHE"
   ]
  },
  {
   "cell_type": "code",
   "execution_count": 135,
   "metadata": {},
   "outputs": [],
   "source": [
    "columnasOHE = ['P2_8', 'P2_9', 'P2_11', 'P2_12', 'P2_13']\n",
    "\n",
    "ModificarColumnasValor(df=seccionII, cols=columnasOHE, valorR=2, valorN=0)"
   ]
  },
  {
   "cell_type": "markdown",
   "metadata": {},
   "source": [
    "### 3.2 Dividir por regiones de méxico.\n",
    "\n",
    "Para no dividir entre 32 entidades federativas, dividiré el país en principales regiones de México.\n",
    "Según la regionalización económica de la [CONABIO](http://www.conabio.gob.mx/informacion/metadata/gis/recomgw.xml?_xsl=/db/metadata/xsl/fgdc_html.xsl&_indent=no) existen un total de 8 regiones.\n",
    "   \n",
    "<img src=\"conabio.gob.mx/informacion/gis/layouts/recomgw.png\"\n",
    "     alt=\"Regiones económicas de Mexico\"\n",
    "     style=\"float: left; margin-right: 10px;\" />\n",
    "     \n",
    "Cada código representa a una región como se muestra en la siguiente tabla:\n",
    "\n",
    "|  Código  | Región              |\n",
    "|:--------:|:-------------------:|\n",
    "| 0        | Noroeste            |\n",
    "| 1        | Norte               |\n",
    "| 2        | Noreste             |\n",
    "| 3        | Centro Occidente    |\n",
    "| 4        | Centro Sur          |\n",
    "| 5        | Golfo de México     |\n",
    "| 6        | Pacífico Sur        |\n",
    "| 7        | Península de Yucatán|\n"
   ]
  },
  {
   "cell_type": "code",
   "execution_count": 136,
   "metadata": {},
   "outputs": [],
   "source": [
    "seccionII_reg = InsertarColumnaNueva(df=seccionII, nombreCol='REGION', numeroCol=12, funcion=RegionesDeMexico)"
   ]
  },
  {
   "cell_type": "markdown",
   "metadata": {},
   "source": [
    "### Borrar columnas"
   ]
  },
  {
   "cell_type": "code",
   "execution_count": 137,
   "metadata": {},
   "outputs": [],
   "source": [
    "labels = ['NOM_ENT', 'NOM_MUN', 'COD_RES', 'COD_RES_E', 'FN_DIA', 'FN_MES', 'NOMBRE', 'HOGAR', \n",
    "          'UPM', 'VIV_SEL', 'N_REN', 'REN_MUJ_EL', 'REN_INF_AD', 'FAC_VIV', 'FAC_MUJ',\n",
    "          'ESTRATO', 'EST_DIS', 'UPM_DIS', 'CODIGO', 'COD_M15', 'PROG', 'P2_16']\n",
    "\n",
    "BorrarColumnas(df=seccionII_reg, cols=labels, inplace=True)"
   ]
  },
  {
   "cell_type": "markdown",
   "metadata": {},
   "source": [
    "### Pasar columnas categóricas a numéricas"
   ]
  },
  {
   "cell_type": "code",
   "execution_count": 138,
   "metadata": {},
   "outputs": [],
   "source": [
    "lb = LabelEncoder()"
   ]
  },
  {
   "cell_type": "code",
   "execution_count": 139,
   "metadata": {},
   "outputs": [
    {
     "data": {
      "text/plain": [
       "array(['C\\r', 'R\\r', 'U\\r'], dtype=object)"
      ]
     },
     "execution_count": 139,
     "metadata": {},
     "output_type": "execute_result"
    }
   ],
   "source": [
    "seccionII_reg[['DOMINIO']] = seccionII_reg[['DOMINIO']].apply(transformColumn)\n",
    "lb.classes_ "
   ]
  },
  {
   "cell_type": "markdown",
   "metadata": {},
   "source": [
    "### Guardar dataset"
   ]
  },
  {
   "cell_type": "code",
   "execution_count": 140,
   "metadata": {},
   "outputs": [],
   "source": [
    "GuardarDataset(df=seccionII_reg, name='sec_ii.csv')"
   ]
  },
  {
   "cell_type": "markdown",
   "metadata": {},
   "source": [
    "## Seccion III"
   ]
  },
  {
   "cell_type": "markdown",
   "metadata": {},
   "source": [
    "### Cargar datos"
   ]
  },
  {
   "cell_type": "code",
   "execution_count": 141,
   "metadata": {},
   "outputs": [
    {
     "data": {
      "text/html": [
       "<div>\n",
       "<style scoped>\n",
       "    .dataframe tbody tr th:only-of-type {\n",
       "        vertical-align: middle;\n",
       "    }\n",
       "\n",
       "    .dataframe tbody tr th {\n",
       "        vertical-align: top;\n",
       "    }\n",
       "\n",
       "    .dataframe thead th {\n",
       "        text-align: right;\n",
       "    }\n",
       "</style>\n",
       "<table border=\"1\" class=\"dataframe\">\n",
       "  <thead>\n",
       "    <tr style=\"text-align: right;\">\n",
       "      <th></th>\n",
       "      <th>ID_VIV</th>\n",
       "      <th>ID_MUJ</th>\n",
       "      <th>UPM</th>\n",
       "      <th>PROG</th>\n",
       "      <th>VIV_SEL</th>\n",
       "      <th>CVE_ENT</th>\n",
       "      <th>NOM_ENT</th>\n",
       "      <th>CVE_MUN</th>\n",
       "      <th>NOM_MUN</th>\n",
       "      <th>HOGAR</th>\n",
       "      <th>...</th>\n",
       "      <th>P3_5</th>\n",
       "      <th>P3_6</th>\n",
       "      <th>P3_7</th>\n",
       "      <th>P3_8</th>\n",
       "      <th>FAC_VIV</th>\n",
       "      <th>FAC_MUJ</th>\n",
       "      <th>DOMINIO</th>\n",
       "      <th>ESTRATO</th>\n",
       "      <th>EST_DIS</th>\n",
       "      <th>UPM_DIS</th>\n",
       "    </tr>\n",
       "  </thead>\n",
       "  <tbody>\n",
       "    <tr>\n",
       "      <th>68782</th>\n",
       "      <td>2062853.08</td>\n",
       "      <td>2062853.08.01.03\\r</td>\n",
       "      <td>2062853</td>\n",
       "      <td>125</td>\n",
       "      <td>8</td>\n",
       "      <td>20</td>\n",
       "      <td>Oaxaca\\r</td>\n",
       "      <td>549</td>\n",
       "      <td>Heroica Villa Tezoatlán de Segura y Luna, Cuna...</td>\n",
       "      <td>1</td>\n",
       "      <td>...</td>\n",
       "      <td>NaN</td>\n",
       "      <td>1.0</td>\n",
       "      <td>NaN</td>\n",
       "      <td>C1\\r</td>\n",
       "      <td>187</td>\n",
       "      <td>374</td>\n",
       "      <td>R\\r</td>\n",
       "      <td>2</td>\n",
       "      <td>3670</td>\n",
       "      <td>11306</td>\n",
       "    </tr>\n",
       "    <tr>\n",
       "      <th>60306</th>\n",
       "      <td>1801606.07</td>\n",
       "      <td>1801606.07.01.02\\r</td>\n",
       "      <td>1801606</td>\n",
       "      <td>150</td>\n",
       "      <td>7</td>\n",
       "      <td>18</td>\n",
       "      <td>Nayarit\\r</td>\n",
       "      <td>15</td>\n",
       "      <td>Santiago Ixcuintla\\r</td>\n",
       "      <td>1</td>\n",
       "      <td>...</td>\n",
       "      <td>NaN</td>\n",
       "      <td>NaN</td>\n",
       "      <td>NaN</td>\n",
       "      <td>A1\\r</td>\n",
       "      <td>105</td>\n",
       "      <td>105</td>\n",
       "      <td>C\\r</td>\n",
       "      <td>2</td>\n",
       "      <td>3290</td>\n",
       "      <td>10139</td>\n",
       "    </tr>\n",
       "    <tr>\n",
       "      <th>77866</th>\n",
       "      <td>2301283.01</td>\n",
       "      <td>2301283.01.01.02\\r</td>\n",
       "      <td>2301283</td>\n",
       "      <td>99</td>\n",
       "      <td>1</td>\n",
       "      <td>23</td>\n",
       "      <td>Quintana Roo\\r</td>\n",
       "      <td>5</td>\n",
       "      <td>Benito Juárez\\r</td>\n",
       "      <td>1</td>\n",
       "      <td>...</td>\n",
       "      <td>NaN</td>\n",
       "      <td>NaN</td>\n",
       "      <td>NaN</td>\n",
       "      <td>A1\\r</td>\n",
       "      <td>123</td>\n",
       "      <td>123</td>\n",
       "      <td>U\\r</td>\n",
       "      <td>2</td>\n",
       "      <td>4100</td>\n",
       "      <td>12835</td>\n",
       "    </tr>\n",
       "    <tr>\n",
       "      <th>92685</th>\n",
       "      <td>2760137.03</td>\n",
       "      <td>2760137.03.01.02\\r</td>\n",
       "      <td>2760137</td>\n",
       "      <td>38</td>\n",
       "      <td>3</td>\n",
       "      <td>27</td>\n",
       "      <td>Tabasco\\r</td>\n",
       "      <td>5</td>\n",
       "      <td>Comalcalco\\r</td>\n",
       "      <td>1</td>\n",
       "      <td>...</td>\n",
       "      <td>NaN</td>\n",
       "      <td>NaN</td>\n",
       "      <td>NaN</td>\n",
       "      <td>A1\\r</td>\n",
       "      <td>231</td>\n",
       "      <td>693</td>\n",
       "      <td>R\\r</td>\n",
       "      <td>1</td>\n",
       "      <td>5020</td>\n",
       "      <td>15226</td>\n",
       "    </tr>\n",
       "    <tr>\n",
       "      <th>49054</th>\n",
       "      <td>1511352.03</td>\n",
       "      <td>1511352.03.01.02\\r</td>\n",
       "      <td>1511352</td>\n",
       "      <td>33</td>\n",
       "      <td>3</td>\n",
       "      <td>15</td>\n",
       "      <td>Estado de Mexico\\r</td>\n",
       "      <td>58</td>\n",
       "      <td>Nezahualcóyotl\\r</td>\n",
       "      <td>1</td>\n",
       "      <td>...</td>\n",
       "      <td>NaN</td>\n",
       "      <td>NaN</td>\n",
       "      <td>NaN</td>\n",
       "      <td>B2\\r</td>\n",
       "      <td>1078</td>\n",
       "      <td>2157</td>\n",
       "      <td>U\\r</td>\n",
       "      <td>3</td>\n",
       "      <td>2580</td>\n",
       "      <td>8419</td>\n",
       "    </tr>\n",
       "  </tbody>\n",
       "</table>\n",
       "<p>5 rows × 27 columns</p>\n",
       "</div>"
      ],
      "text/plain": [
       "           ID_VIV              ID_MUJ      UPM  PROG  VIV_SEL  CVE_ENT  \\\n",
       "68782  2062853.08  2062853.08.01.03\\r  2062853   125        8       20   \n",
       "60306  1801606.07  1801606.07.01.02\\r  1801606   150        7       18   \n",
       "77866  2301283.01  2301283.01.01.02\\r  2301283    99        1       23   \n",
       "92685  2760137.03  2760137.03.01.02\\r  2760137    38        3       27   \n",
       "49054  1511352.03  1511352.03.01.02\\r  1511352    33        3       15   \n",
       "\n",
       "                  NOM_ENT  CVE_MUN  \\\n",
       "68782            Oaxaca\\r      549   \n",
       "60306           Nayarit\\r       15   \n",
       "77866      Quintana Roo\\r        5   \n",
       "92685           Tabasco\\r        5   \n",
       "49054  Estado de Mexico\\r       58   \n",
       "\n",
       "                                                 NOM_MUN  HOGAR   ...    P3_5  \\\n",
       "68782  Heroica Villa Tezoatlán de Segura y Luna, Cuna...      1   ...     NaN   \n",
       "60306                               Santiago Ixcuintla\\r      1   ...     NaN   \n",
       "77866                                    Benito Juárez\\r      1   ...     NaN   \n",
       "92685                                       Comalcalco\\r      1   ...     NaN   \n",
       "49054                                   Nezahualcóyotl\\r      1   ...     NaN   \n",
       "\n",
       "       P3_6  P3_7  P3_8  FAC_VIV  FAC_MUJ  DOMINIO  ESTRATO  EST_DIS  UPM_DIS  \n",
       "68782   1.0   NaN  C1\\r      187      374      R\\r        2     3670    11306  \n",
       "60306   NaN   NaN  A1\\r      105      105      C\\r        2     3290    10139  \n",
       "77866   NaN   NaN  A1\\r      123      123      U\\r        2     4100    12835  \n",
       "92685   NaN   NaN  A1\\r      231      693      R\\r        1     5020    15226  \n",
       "49054   NaN   NaN  B2\\r     1078     2157      U\\r        3     2580     8419  \n",
       "\n",
       "[5 rows x 27 columns]"
      ]
     },
     "execution_count": 141,
     "metadata": {},
     "output_type": "execute_result"
    }
   ],
   "source": [
    "ruta_parcial = \"../../conjunto_de_datos_endireh_2016_csv/conjunto_de_datos_tb_sec_iii_endireh_2016/conjunto_de_datos/conjunto_de_datos_tb_sec_iii_endireh_2016.csv\"\n",
    "\n",
    "seccionIII = CargarPandasDataset(ruta_parcial)\n",
    "\n",
    "seccionIII.iloc[random.choices(range(seccionIII.shape[0]), k=5)]"
   ]
  },
  {
   "cell_type": "markdown",
   "metadata": {},
   "source": [
    "### Hacer columnas One Hot Encoding"
   ]
  },
  {
   "cell_type": "code",
   "execution_count": 142,
   "metadata": {},
   "outputs": [],
   "source": [
    "columnasOHE = ['P3_2', 'P3_4','P3_7']\n",
    "\n",
    "ModificarColumnasValor(df=seccionIII, cols=columnasOHE, valorR=2, valorN=0)"
   ]
  },
  {
   "cell_type": "markdown",
   "metadata": {},
   "source": [
    "### Borrar columnas"
   ]
  },
  {
   "cell_type": "code",
   "execution_count": 143,
   "metadata": {},
   "outputs": [],
   "source": [
    "labels = ['CVE_ENT', 'NOM_ENT', 'CVE_MUN', 'NOM_MUN', 'COD_RES', 'DOMINIO', 'UPM', 'VIV_SEL', 'PROG',\n",
    "          'N_REN', 'FAC_VIV', 'FAC_MUJ', 'ESTRATO', 'EST_DIS', 'UPM_DIS', 'P3_8']\n",
    "\n",
    "BorrarColumnas(df=seccionIII, cols=labels, inplace=True)"
   ]
  },
  {
   "cell_type": "markdown",
   "metadata": {},
   "source": [
    "### Pasar columnas categóricas a numéricas"
   ]
  },
  {
   "cell_type": "code",
   "execution_count": 144,
   "metadata": {},
   "outputs": [],
   "source": [
    "lb = LabelEncoder()"
   ]
  },
  {
   "cell_type": "code",
   "execution_count": 145,
   "metadata": {},
   "outputs": [
    {
     "data": {
      "text/plain": [
       "array(['A1\\r', 'A2\\r', 'B1\\r', 'B2\\r', 'C1\\r', 'C2\\r'], dtype=object)"
      ]
     },
     "execution_count": 145,
     "metadata": {},
     "output_type": "execute_result"
    }
   ],
   "source": [
    "seccionIII[['T_INSTRUM']] = seccionIII[['T_INSTRUM']].apply(transformColumn)\n",
    "lb.classes_ "
   ]
  },
  {
   "cell_type": "markdown",
   "metadata": {},
   "source": [
    "### Guardar dataset"
   ]
  },
  {
   "cell_type": "code",
   "execution_count": 146,
   "metadata": {},
   "outputs": [],
   "source": [
    "GuardarDataset(df=seccionIII, name='sec_iii.csv')"
   ]
  },
  {
   "cell_type": "markdown",
   "metadata": {},
   "source": [
    "## Seccion IX"
   ]
  },
  {
   "cell_type": "markdown",
   "metadata": {},
   "source": [
    "### Cargar datos"
   ]
  },
  {
   "cell_type": "code",
   "execution_count": 147,
   "metadata": {},
   "outputs": [
    {
     "data": {
      "text/html": [
       "<div>\n",
       "<style scoped>\n",
       "    .dataframe tbody tr th:only-of-type {\n",
       "        vertical-align: middle;\n",
       "    }\n",
       "\n",
       "    .dataframe tbody tr th {\n",
       "        vertical-align: top;\n",
       "    }\n",
       "\n",
       "    .dataframe thead th {\n",
       "        text-align: right;\n",
       "    }\n",
       "</style>\n",
       "<table border=\"1\" class=\"dataframe\">\n",
       "  <thead>\n",
       "    <tr style=\"text-align: right;\">\n",
       "      <th></th>\n",
       "      <th>ID_VIV</th>\n",
       "      <th>ID_MUJ</th>\n",
       "      <th>UPM</th>\n",
       "      <th>REN_M_ELE</th>\n",
       "      <th>VIV_SEL</th>\n",
       "      <th>PROG</th>\n",
       "      <th>HOGAR</th>\n",
       "      <th>DOMINIO</th>\n",
       "      <th>CVE_ENT</th>\n",
       "      <th>NOM_ENT</th>\n",
       "      <th>...</th>\n",
       "      <th>P9_8_10</th>\n",
       "      <th>P9_8_11</th>\n",
       "      <th>P9_8_12</th>\n",
       "      <th>P9_8_13</th>\n",
       "      <th>P9_8_14</th>\n",
       "      <th>FAC_VIV</th>\n",
       "      <th>FAC_MUJ</th>\n",
       "      <th>ESTRATO</th>\n",
       "      <th>UPM_DIS</th>\n",
       "      <th>EST_DIS</th>\n",
       "    </tr>\n",
       "  </thead>\n",
       "  <tbody>\n",
       "    <tr>\n",
       "      <th>100255</th>\n",
       "      <td>2606294.02</td>\n",
       "      <td>2606294.02.01.02\\r</td>\n",
       "      <td>2606294</td>\n",
       "      <td>2</td>\n",
       "      <td>2</td>\n",
       "      <td>31</td>\n",
       "      <td>1</td>\n",
       "      <td>C\\r</td>\n",
       "      <td>26</td>\n",
       "      <td>Sonora\\r</td>\n",
       "      <td>...</td>\n",
       "      <td>NaN</td>\n",
       "      <td>NaN</td>\n",
       "      <td>NaN</td>\n",
       "      <td>NaN</td>\n",
       "      <td>NaN</td>\n",
       "      <td>222</td>\n",
       "      <td>667</td>\n",
       "      <td>2</td>\n",
       "      <td>14918</td>\n",
       "      <td>4860</td>\n",
       "    </tr>\n",
       "    <tr>\n",
       "      <th>57471</th>\n",
       "      <td>3160328.08</td>\n",
       "      <td>3160328.08.01.02\\r</td>\n",
       "      <td>3160328</td>\n",
       "      <td>2</td>\n",
       "      <td>8</td>\n",
       "      <td>58</td>\n",
       "      <td>1</td>\n",
       "      <td>R\\r</td>\n",
       "      <td>31</td>\n",
       "      <td>Yucatan\\r</td>\n",
       "      <td>...</td>\n",
       "      <td>NaN</td>\n",
       "      <td>NaN</td>\n",
       "      <td>NaN</td>\n",
       "      <td>NaN</td>\n",
       "      <td>NaN</td>\n",
       "      <td>140</td>\n",
       "      <td>140</td>\n",
       "      <td>1</td>\n",
       "      <td>17592</td>\n",
       "      <td>6070</td>\n",
       "    </tr>\n",
       "    <tr>\n",
       "      <th>74842</th>\n",
       "      <td>1960036.09</td>\n",
       "      <td>1960036.09.01.02\\r</td>\n",
       "      <td>1960036</td>\n",
       "      <td>2</td>\n",
       "      <td>9</td>\n",
       "      <td>238</td>\n",
       "      <td>1</td>\n",
       "      <td>R\\r</td>\n",
       "      <td>19</td>\n",
       "      <td>Nuevo Leon\\r</td>\n",
       "      <td>...</td>\n",
       "      <td>2.0</td>\n",
       "      <td>2.0</td>\n",
       "      <td>NaN</td>\n",
       "      <td>NaN</td>\n",
       "      <td>NaN</td>\n",
       "      <td>570</td>\n",
       "      <td>1140</td>\n",
       "      <td>2</td>\n",
       "      <td>10964</td>\n",
       "      <td>3480</td>\n",
       "    </tr>\n",
       "    <tr>\n",
       "      <th>189</th>\n",
       "      <td>100277.02</td>\n",
       "      <td>0100277.02.01.04\\r</td>\n",
       "      <td>100277</td>\n",
       "      <td>4</td>\n",
       "      <td>2</td>\n",
       "      <td>27</td>\n",
       "      <td>1</td>\n",
       "      <td>U\\r</td>\n",
       "      <td>1</td>\n",
       "      <td>Aguascalientes\\r</td>\n",
       "      <td>...</td>\n",
       "      <td>NaN</td>\n",
       "      <td>NaN</td>\n",
       "      <td>NaN</td>\n",
       "      <td>NaN</td>\n",
       "      <td>NaN</td>\n",
       "      <td>84</td>\n",
       "      <td>168</td>\n",
       "      <td>3</td>\n",
       "      <td>80</td>\n",
       "      <td>20</td>\n",
       "    </tr>\n",
       "    <tr>\n",
       "      <th>103501</th>\n",
       "      <td>2701437.14</td>\n",
       "      <td>2701437.14.02.05\\r</td>\n",
       "      <td>2701437</td>\n",
       "      <td>5</td>\n",
       "      <td>14</td>\n",
       "      <td>21</td>\n",
       "      <td>2</td>\n",
       "      <td>C\\r</td>\n",
       "      <td>27</td>\n",
       "      <td>Tabasco\\r</td>\n",
       "      <td>...</td>\n",
       "      <td>NaN</td>\n",
       "      <td>NaN</td>\n",
       "      <td>NaN</td>\n",
       "      <td>NaN</td>\n",
       "      <td>NaN</td>\n",
       "      <td>149</td>\n",
       "      <td>299</td>\n",
       "      <td>2</td>\n",
       "      <td>15147</td>\n",
       "      <td>4990</td>\n",
       "    </tr>\n",
       "  </tbody>\n",
       "</table>\n",
       "<p>5 rows × 61 columns</p>\n",
       "</div>"
      ],
      "text/plain": [
       "            ID_VIV              ID_MUJ      UPM  REN_M_ELE  VIV_SEL  PROG  \\\n",
       "100255  2606294.02  2606294.02.01.02\\r  2606294          2        2    31   \n",
       "57471   3160328.08  3160328.08.01.02\\r  3160328          2        8    58   \n",
       "74842   1960036.09  1960036.09.01.02\\r  1960036          2        9   238   \n",
       "189      100277.02  0100277.02.01.04\\r   100277          4        2    27   \n",
       "103501  2701437.14  2701437.14.02.05\\r  2701437          5       14    21   \n",
       "\n",
       "        HOGAR DOMINIO  CVE_ENT           NOM_ENT   ...     P9_8_10 P9_8_11  \\\n",
       "100255      1     C\\r       26          Sonora\\r   ...         NaN     NaN   \n",
       "57471       1     R\\r       31         Yucatan\\r   ...         NaN     NaN   \n",
       "74842       1     R\\r       19      Nuevo Leon\\r   ...         2.0     2.0   \n",
       "189         1     U\\r        1  Aguascalientes\\r   ...         NaN     NaN   \n",
       "103501      2     C\\r       27         Tabasco\\r   ...         NaN     NaN   \n",
       "\n",
       "        P9_8_12  P9_8_13 P9_8_14  FAC_VIV  FAC_MUJ  ESTRATO  UPM_DIS  EST_DIS  \n",
       "100255      NaN      NaN     NaN      222      667        2    14918     4860  \n",
       "57471       NaN      NaN     NaN      140      140        1    17592     6070  \n",
       "74842       NaN      NaN     NaN      570     1140        2    10964     3480  \n",
       "189         NaN      NaN     NaN       84      168        3       80       20  \n",
       "103501      NaN      NaN     NaN      149      299        2    15147     4990  \n",
       "\n",
       "[5 rows x 61 columns]"
      ]
     },
     "execution_count": 147,
     "metadata": {},
     "output_type": "execute_result"
    }
   ],
   "source": [
    "ruta_parcial = \"../../conjunto_de_datos_endireh_2016_csv/conjunto_de_datos_tb_sec_ix_endireh_2016/conjunto_de_datos/conjunto_de_datos_tb_sec_ix_endireh_2016.csv\"\n",
    "\n",
    "seccionIX = CargarPandasDataset(ruta_parcial)\n",
    "\n",
    "seccionIX.iloc[random.choices(range(seccionIX.shape[0]), k=5)]"
   ]
  },
  {
   "cell_type": "markdown",
   "metadata": {},
   "source": [
    "### 2. Preservar los datos de las embarazadas\n",
    "\n",
    "Borrar los registros de todas aquellas que repondieron que no estuvieron embarazadas entre Octubre 2011 hasta finales 2016 o que no se tenga resgistro de su respuesta. La manera fácil es solo preservar los registros de las que respondieron que sí estuvieron embaraadas en ese periodo de tiempo."
   ]
  },
  {
   "cell_type": "code",
   "execution_count": 148,
   "metadata": {},
   "outputs": [],
   "source": [
    "seccionIX = seccionIX[seccionIX.P9_2 == 1]"
   ]
  },
  {
   "cell_type": "code",
   "execution_count": 149,
   "metadata": {},
   "outputs": [],
   "source": [
    "seccionIX.reset_index(drop=True, inplace=True) #reajustar el índice"
   ]
  },
  {
   "cell_type": "markdown",
   "metadata": {},
   "source": [
    "### 3. Agregar columnas"
   ]
  },
  {
   "cell_type": "markdown",
   "metadata": {},
   "source": [
    "En la pregunta 1 y 5, si todos los registros tienen valor 9 significa que no hay registro de la respuesta a esa pregunta, por ello se grega una columna que refleje esa información y todos los demás valores se hacen 0, así se preserva el _One Hot Encoding_."
   ]
  },
  {
   "cell_type": "markdown",
   "metadata": {},
   "source": [
    "#### Pregunta 1"
   ]
  },
  {
   "cell_type": "code",
   "execution_count": 150,
   "metadata": {},
   "outputs": [],
   "source": [
    "seccionIX.insert(24, \"P9_1_10\", 0.0) #agregar columna con ceros"
   ]
  },
  {
   "cell_type": "code",
   "execution_count": 151,
   "metadata": {},
   "outputs": [],
   "source": [
    "seccionIX.loc[seccionIX['P9_1_1']==9, 'P9_1_10'] = 1.0 #asignar los valores de columnas con 9"
   ]
  },
  {
   "cell_type": "code",
   "execution_count": 152,
   "metadata": {},
   "outputs": [],
   "source": [
    "seccionIX.loc[seccionIX['P9_1_1']==9, [F'P9_1_{i}' for i in range(1,10)]] = 0.0 #los valores con 9 se hacen 0"
   ]
  },
  {
   "cell_type": "markdown",
   "metadata": {},
   "source": [
    "#### Pregunta 5"
   ]
  },
  {
   "cell_type": "code",
   "execution_count": 153,
   "metadata": {},
   "outputs": [],
   "source": [
    "seccionIX.insert(41, \"P9_5_12\", 0.0) #agregar columna con ceros"
   ]
  },
  {
   "cell_type": "code",
   "execution_count": 154,
   "metadata": {},
   "outputs": [],
   "source": [
    "seccionIX.loc[seccionIX['P9_5_1']==9, 'P9_5_12']=1.0 #asignar los valores de columnas con 9"
   ]
  },
  {
   "cell_type": "code",
   "execution_count": 155,
   "metadata": {},
   "outputs": [],
   "source": [
    "seccionIX.loc[seccionIX['P9_5_1']==9, [F'P9_5_{i}' for i in range(1,12)]]=0.0 #los valores con 9 se hacen 0"
   ]
  },
  {
   "cell_type": "markdown",
   "metadata": {},
   "source": [
    "### 3.2 Crear clasificación\n",
    "\n",
    "A partir de las respuestas de la pregunta 8, crear columna que va a servir de clasificación para los niveles de violencia obstétrica."
   ]
  },
  {
   "cell_type": "code",
   "execution_count": 156,
   "metadata": {},
   "outputs": [],
   "source": [
    "seccionIX_cls = InsertarColumnaNueva(df=seccionIX, nombreCol='P9_8', numeroCol=58, funcion=Clasificacion)"
   ]
  },
  {
   "cell_type": "markdown",
   "metadata": {},
   "source": [
    "### Balancear clasificación\n",
    "\n",
    "Que estén en mismo procentaje cada clasificación. Ya que el 73% de las mujeres no sufrieron violencia y las otras dos clasificaciones tiene 13% y 14%, obtendré una porción similar (15% porciento del total) para las no embarazadas. Para ello, debo obtener el 20% de las no violentadas."
   ]
  },
  {
   "cell_type": "markdown",
   "metadata": {},
   "source": [
    "Obtener el 20% de las que no sufrieron violencia"
   ]
  },
  {
   "cell_type": "code",
   "execution_count": 157,
   "metadata": {},
   "outputs": [],
   "source": [
    "df_percent = seccionIX_cls.loc[seccionIX_cls['P9_8']==0].sample(frac=0.2)"
   ]
  },
  {
   "cell_type": "markdown",
   "metadata": {},
   "source": [
    "Concatenar con las clasificaciones restantes."
   ]
  },
  {
   "cell_type": "code",
   "execution_count": 158,
   "metadata": {},
   "outputs": [],
   "source": [
    "seccionIX_cls = pd.concat([df_percent, seccionIX_cls.loc[seccionIX_cls['P9_8']!=0]])"
   ]
  },
  {
   "cell_type": "code",
   "execution_count": 159,
   "metadata": {},
   "outputs": [],
   "source": [
    "seccionIX_cls.sort_index()\n",
    "seccionIX_cls.reset_index(drop=True, inplace=True) #reajustar el índice"
   ]
  },
  {
   "cell_type": "markdown",
   "metadata": {},
   "source": [
    "### Borrar columnas"
   ]
  },
  {
   "cell_type": "code",
   "execution_count": 160,
   "metadata": {},
   "outputs": [],
   "source": [
    "labels = ['NOM_ENT', 'NOM_MUN', 'COD_RES_MU', 'COD_RES', 'DOMINIO', 'P9_2', 'T_INSTRUM']\n",
    "labels.extend( [f'P9_8_{i}' for i in range(1,11)] )\n",
    "labels.append('P9_8_12')\n",
    "\n",
    "BorrarColumnas(df=seccionIX_cls, cols=labels, inplace=True)"
   ]
  },
  {
   "cell_type": "markdown",
   "metadata": {},
   "source": [
    "### Guardar dataset"
   ]
  },
  {
   "cell_type": "code",
   "execution_count": 161,
   "metadata": {},
   "outputs": [],
   "source": [
    "GuardarDataset(df=seccionIX_cls, name='sec_ix.csv')"
   ]
  },
  {
   "cell_type": "markdown",
   "metadata": {},
   "source": [
    "## Unir datasets"
   ]
  },
  {
   "cell_type": "code",
   "execution_count": 162,
   "metadata": {},
   "outputs": [
    {
     "data": {
      "text/plain": [
       "Index(['ID_VIV', 'VIV_SEL', 'P1_1', 'P1_2', 'P1_2_A', 'P1_3', 'P1_4_1',\n",
       "       'P1_4_2', 'P1_4_3', 'P1_4_4', 'P1_4_5', 'P1_4_6', 'P1_4_7', 'P1_4_8',\n",
       "       'P1_4_9', 'P1_5', 'P1_6', 'P1_7', 'P1_8', 'P1_9', 'P1_10_1', 'P1_10_2',\n",
       "       'P1_10_3', 'P1_10_4'],\n",
       "      dtype='object')"
      ]
     },
     "execution_count": 162,
     "metadata": {},
     "output_type": "execute_result"
    }
   ],
   "source": [
    "seccionI.columns #características de la vivienda"
   ]
  },
  {
   "cell_type": "code",
   "execution_count": 163,
   "metadata": {},
   "outputs": [
    {
     "data": {
      "text/plain": [
       "Index(['ID_VIV', 'ID_MUJ', 'CVE_ENT', 'CVE_MUN', 'REGION', 'PAREN', 'SEXO',\n",
       "       'EDAD', 'P2_5', 'P2_6', 'NIV', 'GRA', 'P2_8', 'P2_9', 'P2_10', 'P2_11',\n",
       "       'P2_12', 'P2_13', 'P2_14', 'P2_15', 'DOMINIO'],\n",
       "      dtype='object')"
      ]
     },
     "execution_count": 163,
     "metadata": {},
     "output_type": "execute_result"
    }
   ],
   "source": [
    "seccionII_reg.columns #características sociodemográficas"
   ]
  },
  {
   "cell_type": "code",
   "execution_count": 164,
   "metadata": {},
   "outputs": [
    {
     "data": {
      "text/plain": [
       "Index(['ID_VIV', 'ID_MUJ', 'HOGAR', 'T_INSTRUM', 'P3_1', 'P3_2', 'P3_3',\n",
       "       'P3_4', 'P3_5', 'P3_6', 'P3_7'],\n",
       "      dtype='object')"
      ]
     },
     "execution_count": 164,
     "metadata": {},
     "output_type": "execute_result"
    }
   ],
   "source": [
    "seccionIII.columns #estado conyugal"
   ]
  },
  {
   "cell_type": "code",
   "execution_count": 165,
   "metadata": {},
   "outputs": [
    {
     "data": {
      "text/plain": [
       "Index(['ID_VIV', 'ID_MUJ', 'UPM', 'REN_M_ELE', 'VIV_SEL', 'PROG', 'HOGAR',\n",
       "       'CVE_ENT', 'CVE_MUN', 'P9_1_1', 'P9_1_2', 'P9_1_3', 'P9_1_4', 'P9_1_5',\n",
       "       'P9_1_6', 'P9_1_7', 'P9_1_8', 'P9_1_9', 'P9_1_10', 'P9_3', 'P9_4_1',\n",
       "       'P9_4_2', 'P9_4_3', 'P9_5_1', 'P9_5_2', 'P9_5_3', 'P9_5_4', 'P9_5_5',\n",
       "       'P9_5_6', 'P9_5_7', 'P9_5_8', 'P9_5_9', 'P9_5_10', 'P9_5_11', 'P9_5_12',\n",
       "       'P9_6', 'P9_7', 'P9_8_11', 'P9_8_13', 'P9_8_14', 'P9_8', 'FAC_VIV',\n",
       "       'FAC_MUJ', 'ESTRATO', 'UPM_DIS', 'EST_DIS'],\n",
       "      dtype='object')"
      ]
     },
     "execution_count": 165,
     "metadata": {},
     "output_type": "execute_result"
    }
   ],
   "source": [
    "seccionIX_cls.columns #atención obstétrica"
   ]
  },
  {
   "cell_type": "code",
   "execution_count": 166,
   "metadata": {},
   "outputs": [],
   "source": [
    "result = pd.merge(seccionI, seccionII_reg, how=\"inner\")\n",
    "result = pd.merge(result, seccionIII, how=\"inner\")\n",
    "result = pd.merge(result, seccionIX_cls, how=\"inner\")"
   ]
  },
  {
   "cell_type": "code",
   "execution_count": 167,
   "metadata": {},
   "outputs": [
    {
     "data": {
      "text/plain": [
       "(10682, 93)"
      ]
     },
     "execution_count": 167,
     "metadata": {},
     "output_type": "execute_result"
    }
   ],
   "source": [
    "result.shape"
   ]
  },
  {
   "cell_type": "code",
   "execution_count": 168,
   "metadata": {},
   "outputs": [
    {
     "data": {
      "text/plain": [
       "Index(['ID_VIV', 'VIV_SEL', 'P1_1', 'P1_2', 'P1_2_A', 'P1_3', 'P1_4_1',\n",
       "       'P1_4_2', 'P1_4_3', 'P1_4_4', 'P1_4_5', 'P1_4_6', 'P1_4_7', 'P1_4_8',\n",
       "       'P1_4_9', 'P1_5', 'P1_6', 'P1_7', 'P1_8', 'P1_9', 'P1_10_1', 'P1_10_2',\n",
       "       'P1_10_3', 'P1_10_4', 'ID_MUJ', 'CVE_ENT', 'CVE_MUN', 'REGION', 'PAREN',\n",
       "       'SEXO', 'EDAD', 'P2_5', 'P2_6', 'NIV', 'GRA', 'P2_8', 'P2_9', 'P2_10',\n",
       "       'P2_11', 'P2_12', 'P2_13', 'P2_14', 'P2_15', 'DOMINIO', 'HOGAR',\n",
       "       'T_INSTRUM', 'P3_1', 'P3_2', 'P3_3', 'P3_4', 'P3_5', 'P3_6', 'P3_7',\n",
       "       'UPM', 'REN_M_ELE', 'PROG', 'P9_1_1', 'P9_1_2', 'P9_1_3', 'P9_1_4',\n",
       "       'P9_1_5', 'P9_1_6', 'P9_1_7', 'P9_1_8', 'P9_1_9', 'P9_1_10', 'P9_3',\n",
       "       'P9_4_1', 'P9_4_2', 'P9_4_3', 'P9_5_1', 'P9_5_2', 'P9_5_3', 'P9_5_4',\n",
       "       'P9_5_5', 'P9_5_6', 'P9_5_7', 'P9_5_8', 'P9_5_9', 'P9_5_10', 'P9_5_11',\n",
       "       'P9_5_12', 'P9_6', 'P9_7', 'P9_8_11', 'P9_8_13', 'P9_8_14', 'P9_8',\n",
       "       'FAC_VIV', 'FAC_MUJ', 'ESTRATO', 'UPM_DIS', 'EST_DIS'],\n",
       "      dtype='object')"
      ]
     },
     "execution_count": 168,
     "metadata": {},
     "output_type": "execute_result"
    }
   ],
   "source": [
    "result.columns"
   ]
  },
  {
   "cell_type": "markdown",
   "metadata": {},
   "source": [
    "### Borrar columnas\n",
    "\n",
    "Borrar las columnas de entidad y municipio para solo tener la región."
   ]
  },
  {
   "cell_type": "code",
   "execution_count": 169,
   "metadata": {},
   "outputs": [],
   "source": [
    "labels = ['CVE_ENT', 'CVE_MUN']\n",
    "\n",
    "BorrarColumnas(df=result, cols=labels, inplace=True)"
   ]
  },
  {
   "cell_type": "markdown",
   "metadata": {},
   "source": [
    "### Guardar dataset"
   ]
  },
  {
   "cell_type": "code",
   "execution_count": 170,
   "metadata": {},
   "outputs": [],
   "source": [
    "GuardarDataset(df=result, name='endireh.csv')"
   ]
  },
  {
   "cell_type": "markdown",
   "metadata": {},
   "source": [
    "# Modificaciones faltantes\n",
    "\n",
    "1. Crear clasificación en seccion IX. **maso**\n",
    "    \n",
    "    1. Decidir entre los dos tipos de preprocesamiento (con tres o cuatro categorías).\n",
    "\n",
    "2. Limpiar columnas en todos los datasets que lo necesiten. **ya**\n",
    "\n",
    "3. Pasar columnas categóricas a numéricas. **ya**\n",
    "\n",
    "4. Juntar los datasets. **ya**\n",
    "\n",
    "5. Quedarnos con una muestra del 73% para quedarnos con un 15% o más o menos para que esté balanceado. Esto sería una muestra del 20% de los que tengan catetoría 0. **ya**\n",
    "\n",
    "----\n",
    "\n",
    "6. Crear baseline.\n",
    "\n",
    "----\n",
    "\n",
    "7. Reescribir los apartados de cada preprocesamiento de secciones justificando las acciones.\n",
    "\n",
    "8. Buscar el significado de las columnas que no se entiende el significado.\n",
    "\n",
    "9. Responder preguntas de todas las secciones.\n",
    "    1. ¿Habrá los mismos ID_MUJER en todos los dataset con ese valor y por qué? Diferente número de registros y por qué?\n",
    "    2. ¿se borrarán registros de los que no presentan ningún tipo de violencia?"
   ]
  }
 ],
 "metadata": {
  "kernelspec": {
   "display_name": "Python 3",
   "language": "python",
   "name": "python3"
  },
  "language_info": {
   "codemirror_mode": {
    "name": "ipython",
    "version": 3
   },
   "file_extension": ".py",
   "mimetype": "text/x-python",
   "name": "python",
   "nbconvert_exporter": "python",
   "pygments_lexer": "ipython3",
   "version": "3.6.9"
  }
 },
 "nbformat": 4,
 "nbformat_minor": 4
}
