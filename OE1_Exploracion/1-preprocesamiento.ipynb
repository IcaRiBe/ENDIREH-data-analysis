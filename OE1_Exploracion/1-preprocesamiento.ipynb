{
 "cells": [
  {
   "cell_type": "markdown",
   "metadata": {},
   "source": [
    "# Preprocesamiento de datos"
   ]
  },
  {
   "cell_type": "markdown",
   "metadata": {},
   "source": [
    "## Librerías"
   ]
  },
  {
   "cell_type": "code",
   "execution_count": 1,
   "metadata": {},
   "outputs": [],
   "source": [
    "import pandas as pd\n",
    "import numpy as np\n",
    "import random\n",
    "import copy\n",
    "from sklearn.preprocessing import LabelEncoder\n",
    "from sklearn import preprocessing"
   ]
  },
  {
   "cell_type": "markdown",
   "metadata": {},
   "source": [
    "## Funciones"
   ]
  },
  {
   "cell_type": "code",
   "execution_count": 2,
   "metadata": {},
   "outputs": [],
   "source": [
    "def CargarPandasDataset(ruta):\n",
    "    \"\"\"\n",
    "    Carga un dataset de pandas a partir de un archivo csv con espacios vacios representados por un \\r\n",
    "    Recibe:\n",
    "        ruta_parcial: string con la ruta parcial o absoluta al archivo csv.\n",
    "    Devuelve:\n",
    "        pandas dataset\n",
    "    \"\"\"\n",
    "    return pd.read_csv(ruta, na_values=['\\r'])\n",
    "\n",
    "def GuardarDataset(df, name):\n",
    "    \"\"\"\n",
    "    Guarda el dataset de pandas en la ruta indicada\n",
    "    Recibe:\n",
    "          df: dataset de pandas\n",
    "        name: nombre con el que será guardado\n",
    "    Devuelve:\n",
    "        nada\n",
    "    \"\"\"\n",
    "    df.to_csv(name, index=False)\n",
    "    return\n",
    "\n",
    "def ModificarColumnasValor(df, cols, valorR, valorN):\n",
    "    \"\"\"\n",
    "    Modifica las columnas indicadas del dataframe de pandas donde un valor deba ser reemplazado por un valor nuevo\n",
    "    Recibe:\n",
    "            df: dataset de pandas\n",
    "          cols: columnas a remplazar valores\n",
    "        valorR: valor a remplazar\n",
    "        valorN: valor nuevo\n",
    "    Devuelve:\n",
    "        pandas dataframe modificado\n",
    "    \"\"\"\n",
    "    df_copy = copy.copy(df)\n",
    "    df_copy[cols] = df[cols].replace(valorR, valorN)\n",
    "    return df_copy\n",
    "\n",
    "def BorrarColumnas(df, cols):\n",
    "    \"\"\"\n",
    "    Devuelve un pandas dataframe sin las columnas indicadas \n",
    "    Recibe:\n",
    "             df: dataset de pandas\n",
    "           cols: columnas a remplazar valores\n",
    "    Devuelve:\n",
    "         pandas dataframe\n",
    "    \"\"\"\n",
    "    df_new = df.drop(labels=cols, axis=1, inplace=False)\n",
    "    return df_new\n",
    "\n",
    "def InsertarColumnaNueva(df, nombreCol, numeroCol, funcion):\n",
    "    \"\"\"\n",
    "    Inserta una columna nueva nombreCol, en la posicion numero col, en el dataset de pandas df, en base a la funcion \n",
    "    Recibe:\n",
    "               df: dataset de pandas\n",
    "        nombreCol: nombre de la columna nueva\n",
    "        numeroCol: numero de columna donde se insertará\n",
    "          funcion: funcion de Python\n",
    "    Devuelve:\n",
    "        pandas dataset\n",
    "    \"\"\"\n",
    "    df_copy = copy.copy(df)\n",
    "    df_copy.insert(numeroCol, nombreCol, df.apply(funcion, axis=1))\n",
    "    return df_copy\n",
    "\n",
    "def transformColumn(col):\n",
    "    \"\"\"\n",
    "    Encodea la columna de 0 a n-1, siendo n el numero de clases en la columna usando un LabelEncoder de sklearn llamado lb\n",
    "    Recibe:\n",
    "        col: columna de pandas\n",
    "    Devuelve:\n",
    "        la columna transformada\n",
    "    \"\"\"\n",
    "    return lb.fit_transform(col)"
   ]
  },
  {
   "cell_type": "code",
   "execution_count": 3,
   "metadata": {},
   "outputs": [],
   "source": [
    "def RegionesDeMexico(row):\n",
    "    if   row['NOM_ENT'] in ['Baja California\\r', 'Baja California Sur\\r', 'Sonora\\r', 'Sinaloa\\r', 'Nayarit\\r']:\n",
    "        val = 0\n",
    "    elif row['NOM_ENT'] in ['Chihuahua\\r', 'Coahuila de Zaragoza\\r', 'Durango\\r', 'Zacatecas\\r', 'San Luis Potosi\\r']:\n",
    "        val = 1\n",
    "    elif row['NOM_ENT'] in ['Nuevo Leon\\r', 'Tamaulipas\\r']:\n",
    "        val = 2\n",
    "    elif row['NOM_ENT'] in ['Jalisco\\r', 'Aguascalientes\\r', 'Guanajuato\\r', 'Colima\\r', 'Michoacan de Ocampo\\r']:\n",
    "        val = 3\n",
    "    elif row['NOM_ENT'] in ['Queretaro\\r', 'Hidalgo\\r', 'Estado de Mexico\\r',  'Ciudad de Mexico\\r','Morelos\\r', 'Puebla\\r', 'Tlaxcala\\r']:\n",
    "        val = 4\n",
    "    elif row['NOM_ENT'] in ['Veracruz de Ignacio de la Llave\\r', 'Tabasco\\r']:\n",
    "        val = 5\n",
    "    elif row['NOM_ENT'] in ['Guerrero\\r', 'Oaxaca\\r', 'Chiapas\\r']:\n",
    "        val = 6\n",
    "    elif row['NOM_ENT'] in ['Campeche\\r', 'Yucatan\\r', 'Quintana Roo\\r']:\n",
    "        val = 7\n",
    "    return val\n",
    "\n",
    "def Clasificacion(row):\n",
    "    # va de menor a mayor gravedad\n",
    "    val = [0,0] #ninguno\n",
    "    \n",
    "    #abuso y violencia\n",
    "    if row['P9_8_1'] == 1.0 or row['P9_8_2'] == 1.0 or row['P9_8_3'] == 1.0 or row['P9_8_4'] == 1.0 or row['P9_8_5'] == 1.0 or row['P9_8_6'] == 1.0:\n",
    "        val[0] = 1\n",
    "    \n",
    "    #atencion no autorizada\n",
    "    if row['P9_8_7'] == 1.0 or row['P9_8_8'] == 1.0 or row['P9_8_9'] == 1.0 or row['P9_8_10'] == 1.0 or row['P9_8_14'] == 4.0:\n",
    "        val[1] = 1\n",
    "    \n",
    "    if val[0]==1 and val[1]==1: #ambas\n",
    "        return 3\n",
    "    elif val[0]==1: #abuso y violencia\n",
    "        return 1\n",
    "    elif val[1]==1: #atencion no autorizada\n",
    "        return 2\n",
    "    else: \n",
    "        return 0 #ninguno"
   ]
  },
  {
   "cell_type": "markdown",
   "metadata": {},
   "source": [
    "## Seccion I"
   ]
  },
  {
   "cell_type": "markdown",
   "metadata": {},
   "source": [
    "### Cargar datos"
   ]
  },
  {
   "cell_type": "code",
   "execution_count": 4,
   "metadata": {},
   "outputs": [
    {
     "data": {
      "text/html": [
       "<div>\n",
       "<style scoped>\n",
       "    .dataframe tbody tr th:only-of-type {\n",
       "        vertical-align: middle;\n",
       "    }\n",
       "\n",
       "    .dataframe tbody tr th {\n",
       "        vertical-align: top;\n",
       "    }\n",
       "\n",
       "    .dataframe thead th {\n",
       "        text-align: right;\n",
       "    }\n",
       "</style>\n",
       "<table border=\"1\" class=\"dataframe\">\n",
       "  <thead>\n",
       "    <tr style=\"text-align: right;\">\n",
       "      <th></th>\n",
       "      <th>ID_VIV</th>\n",
       "      <th>UPM</th>\n",
       "      <th>PROG</th>\n",
       "      <th>VIV_SEL</th>\n",
       "      <th>CVE_ENT</th>\n",
       "      <th>NOM_ENT</th>\n",
       "      <th>CVE_MUN</th>\n",
       "      <th>NOM_MUN</th>\n",
       "      <th>COD_RES</th>\n",
       "      <th>P1_1</th>\n",
       "      <th>...</th>\n",
       "      <th>P1_9</th>\n",
       "      <th>P1_10_1</th>\n",
       "      <th>P1_10_2</th>\n",
       "      <th>P1_10_3</th>\n",
       "      <th>P1_10_4</th>\n",
       "      <th>FAC_VIV</th>\n",
       "      <th>DOMINIO</th>\n",
       "      <th>EST_DIS</th>\n",
       "      <th>UPM_DIS</th>\n",
       "      <th>ESTRATO</th>\n",
       "    </tr>\n",
       "  </thead>\n",
       "  <tbody>\n",
       "    <tr>\n",
       "      <th>68949</th>\n",
       "      <td>1903637.03</td>\n",
       "      <td>1903637</td>\n",
       "      <td>49</td>\n",
       "      <td>3</td>\n",
       "      <td>19</td>\n",
       "      <td>Nuevo Leon\\r</td>\n",
       "      <td>26</td>\n",
       "      <td>Guadalupe\\r</td>\n",
       "      <td>2</td>\n",
       "      <td>2</td>\n",
       "      <td>...</td>\n",
       "      <td>NaN</td>\n",
       "      <td>NaN</td>\n",
       "      <td>NaN</td>\n",
       "      <td>NaN</td>\n",
       "      <td>NaN</td>\n",
       "      <td>374</td>\n",
       "      <td>U\\r</td>\n",
       "      <td>3340</td>\n",
       "      <td>10461</td>\n",
       "      <td>3</td>\n",
       "    </tr>\n",
       "    <tr>\n",
       "      <th>15397</th>\n",
       "      <td>500678.05</td>\n",
       "      <td>500678</td>\n",
       "      <td>115</td>\n",
       "      <td>5</td>\n",
       "      <td>5</td>\n",
       "      <td>Coahuila de Zaragoza\\r</td>\n",
       "      <td>18</td>\n",
       "      <td>Monclova\\r</td>\n",
       "      <td>1</td>\n",
       "      <td>3</td>\n",
       "      <td>...</td>\n",
       "      <td>NaN</td>\n",
       "      <td>NaN</td>\n",
       "      <td>NaN</td>\n",
       "      <td>NaN</td>\n",
       "      <td>NaN</td>\n",
       "      <td>206</td>\n",
       "      <td>U\\r</td>\n",
       "      <td>780</td>\n",
       "      <td>2467</td>\n",
       "      <td>2</td>\n",
       "    </tr>\n",
       "    <tr>\n",
       "      <th>120157</th>\n",
       "      <td>3202335.18</td>\n",
       "      <td>3202335</td>\n",
       "      <td>72</td>\n",
       "      <td>18</td>\n",
       "      <td>32</td>\n",
       "      <td>Zacatecas\\r</td>\n",
       "      <td>44</td>\n",
       "      <td>Tabasco\\r</td>\n",
       "      <td>1</td>\n",
       "      <td>3</td>\n",
       "      <td>...</td>\n",
       "      <td>NaN</td>\n",
       "      <td>NaN</td>\n",
       "      <td>NaN</td>\n",
       "      <td>NaN</td>\n",
       "      <td>NaN</td>\n",
       "      <td>111</td>\n",
       "      <td>C\\r</td>\n",
       "      <td>6160</td>\n",
       "      <td>17894</td>\n",
       "      <td>2</td>\n",
       "    </tr>\n",
       "    <tr>\n",
       "      <th>44118</th>\n",
       "      <td>1260405.18</td>\n",
       "      <td>1260405</td>\n",
       "      <td>265</td>\n",
       "      <td>18</td>\n",
       "      <td>12</td>\n",
       "      <td>Guerrero\\r</td>\n",
       "      <td>1</td>\n",
       "      <td>Acapulco de Juárez\\r</td>\n",
       "      <td>1</td>\n",
       "      <td>2</td>\n",
       "      <td>...</td>\n",
       "      <td>NaN</td>\n",
       "      <td>NaN</td>\n",
       "      <td>NaN</td>\n",
       "      <td>NaN</td>\n",
       "      <td>NaN</td>\n",
       "      <td>262</td>\n",
       "      <td>R\\r</td>\n",
       "      <td>2180</td>\n",
       "      <td>7111</td>\n",
       "      <td>1</td>\n",
       "    </tr>\n",
       "    <tr>\n",
       "      <th>35007</th>\n",
       "      <td>1001003.04</td>\n",
       "      <td>1001003</td>\n",
       "      <td>75</td>\n",
       "      <td>4</td>\n",
       "      <td>10</td>\n",
       "      <td>Durango\\r</td>\n",
       "      <td>5</td>\n",
       "      <td>Durango\\r</td>\n",
       "      <td>1</td>\n",
       "      <td>1</td>\n",
       "      <td>...</td>\n",
       "      <td>NaN</td>\n",
       "      <td>NaN</td>\n",
       "      <td>NaN</td>\n",
       "      <td>NaN</td>\n",
       "      <td>NaN</td>\n",
       "      <td>118</td>\n",
       "      <td>U\\r</td>\n",
       "      <td>1620</td>\n",
       "      <td>5860</td>\n",
       "      <td>2</td>\n",
       "    </tr>\n",
       "  </tbody>\n",
       "</table>\n",
       "<p>5 rows × 36 columns</p>\n",
       "</div>"
      ],
      "text/plain": [
       "            ID_VIV      UPM  PROG  VIV_SEL  CVE_ENT                 NOM_ENT  \\\n",
       "68949   1903637.03  1903637    49        3       19            Nuevo Leon\\r   \n",
       "15397    500678.05   500678   115        5        5  Coahuila de Zaragoza\\r   \n",
       "120157  3202335.18  3202335    72       18       32             Zacatecas\\r   \n",
       "44118   1260405.18  1260405   265       18       12              Guerrero\\r   \n",
       "35007   1001003.04  1001003    75        4       10               Durango\\r   \n",
       "\n",
       "        CVE_MUN               NOM_MUN  COD_RES  P1_1  ...  P1_9  P1_10_1  \\\n",
       "68949        26           Guadalupe\\r        2     2  ...   NaN      NaN   \n",
       "15397        18            Monclova\\r        1     3  ...   NaN      NaN   \n",
       "120157       44             Tabasco\\r        1     3  ...   NaN      NaN   \n",
       "44118         1  Acapulco de Juárez\\r        1     2  ...   NaN      NaN   \n",
       "35007         5             Durango\\r        1     1  ...   NaN      NaN   \n",
       "\n",
       "        P1_10_2  P1_10_3  P1_10_4  FAC_VIV  DOMINIO  EST_DIS  UPM_DIS  ESTRATO  \n",
       "68949       NaN      NaN      NaN      374      U\\r     3340    10461        3  \n",
       "15397       NaN      NaN      NaN      206      U\\r      780     2467        2  \n",
       "120157      NaN      NaN      NaN      111      C\\r     6160    17894        2  \n",
       "44118       NaN      NaN      NaN      262      R\\r     2180     7111        1  \n",
       "35007       NaN      NaN      NaN      118      U\\r     1620     5860        2  \n",
       "\n",
       "[5 rows x 36 columns]"
      ]
     },
     "execution_count": 4,
     "metadata": {},
     "output_type": "execute_result"
    }
   ],
   "source": [
    "ruta_parcial = \"../../conjunto_de_datos_endireh_2016_csv/conjunto_de_datos_tviv_endireh_2016/conjunto_de_datos/conjunto_de_datos_tviv_endireh_2016.csv\"\n",
    "\n",
    "seccionI = CargarPandasDataset(ruta_parcial)\n",
    "\n",
    "seccionI.iloc[random.choices(range(seccionI.shape[0]), k=5)]"
   ]
  },
  {
   "cell_type": "markdown",
   "metadata": {},
   "source": [
    "### Hacer columnas One Hot Encoding"
   ]
  },
  {
   "cell_type": "code",
   "execution_count": 5,
   "metadata": {},
   "outputs": [],
   "source": [
    "columnasOHE = [f'P1_4_{i}' for i in range(1,10)]\n",
    "columnasOHE.append('P1_8')\n",
    "\n",
    "seccionI = ModificarColumnasValor(df=seccionI, cols=columnasOHE, valorR=2, valorN=0)"
   ]
  },
  {
   "cell_type": "markdown",
   "metadata": {},
   "source": [
    "### Política de datos faltantes"
   ]
  },
  {
   "cell_type": "code",
   "execution_count": 6,
   "metadata": {},
   "outputs": [],
   "source": [
    "seccionI = ModificarColumnasValor(df=seccionI, cols=['P1_9'], valorR=np.nan, valorN=1)\n",
    "\n",
    "columnasNaN = [f'P1_10_{i}' for i in range(1, 5)]\n",
    "\n",
    "seccionI = ModificarColumnasValor(df=seccionI, cols=columnasNaN, valorR=np.nan, valorN=2)"
   ]
  },
  {
   "cell_type": "markdown",
   "metadata": {},
   "source": [
    "### Borrar columnas"
   ]
  },
  {
   "cell_type": "code",
   "execution_count": 7,
   "metadata": {},
   "outputs": [],
   "source": [
    "labels = ['CVE_ENT', 'NOM_ENT', 'CVE_MUN', 'NOM_MUN', 'COD_RES', 'UPM', 'PROG','FAC_VIV', 'EST_DIS', 'UPM_DIS', 'ESTRATO', 'DOMINIO']\n",
    "\n",
    "seccionI = BorrarColumnas(df=seccionI, cols=labels)"
   ]
  },
  {
   "cell_type": "markdown",
   "metadata": {},
   "source": [
    "### Guardar dataset"
   ]
  },
  {
   "cell_type": "code",
   "execution_count": 8,
   "metadata": {},
   "outputs": [],
   "source": [
    "GuardarDataset(df=seccionI, name='datasets/sec_i.csv')"
   ]
  },
  {
   "cell_type": "markdown",
   "metadata": {},
   "source": [
    "## Seccion II"
   ]
  },
  {
   "cell_type": "markdown",
   "metadata": {},
   "source": [
    "### Cargar los datos"
   ]
  },
  {
   "cell_type": "code",
   "execution_count": 9,
   "metadata": {},
   "outputs": [
    {
     "data": {
      "text/html": [
       "<div>\n",
       "<style scoped>\n",
       "    .dataframe tbody tr th:only-of-type {\n",
       "        vertical-align: middle;\n",
       "    }\n",
       "\n",
       "    .dataframe tbody tr th {\n",
       "        vertical-align: top;\n",
       "    }\n",
       "\n",
       "    .dataframe thead th {\n",
       "        text-align: right;\n",
       "    }\n",
       "</style>\n",
       "<table border=\"1\" class=\"dataframe\">\n",
       "  <thead>\n",
       "    <tr style=\"text-align: right;\">\n",
       "      <th></th>\n",
       "      <th>ID_VIV</th>\n",
       "      <th>ID_MUJ</th>\n",
       "      <th>UPM</th>\n",
       "      <th>PROG</th>\n",
       "      <th>VIV_SEL</th>\n",
       "      <th>CVE_ENT</th>\n",
       "      <th>NOM_ENT</th>\n",
       "      <th>CVE_MUN</th>\n",
       "      <th>NOM_MUN</th>\n",
       "      <th>HOGAR</th>\n",
       "      <th>...</th>\n",
       "      <th>REN_INF_AD</th>\n",
       "      <th>FN_DIA</th>\n",
       "      <th>FN_MES</th>\n",
       "      <th>FAC_VIV</th>\n",
       "      <th>FAC_MUJ</th>\n",
       "      <th>DOMINIO</th>\n",
       "      <th>ESTRATO</th>\n",
       "      <th>EST_DIS</th>\n",
       "      <th>UPM_DIS</th>\n",
       "      <th>COD_M15</th>\n",
       "    </tr>\n",
       "  </thead>\n",
       "  <tbody>\n",
       "    <tr>\n",
       "      <th>299110</th>\n",
       "      <td>2160073.17</td>\n",
       "      <td>2160073.17.01.01\\r</td>\n",
       "      <td>2160073</td>\n",
       "      <td>9</td>\n",
       "      <td>17</td>\n",
       "      <td>21</td>\n",
       "      <td>Puebla\\r</td>\n",
       "      <td>45</td>\n",
       "      <td>Chalchicomula de Sesma\\r</td>\n",
       "      <td>1</td>\n",
       "      <td>...</td>\n",
       "      <td>NaN</td>\n",
       "      <td>NaN</td>\n",
       "      <td>NaN</td>\n",
       "      <td>437</td>\n",
       "      <td>0</td>\n",
       "      <td>R\\r</td>\n",
       "      <td>1</td>\n",
       "      <td>3820</td>\n",
       "      <td>11939</td>\n",
       "      <td>NaN</td>\n",
       "    </tr>\n",
       "    <tr>\n",
       "      <th>166979</th>\n",
       "      <td>1260616.03</td>\n",
       "      <td>1260616.03.01.02\\r</td>\n",
       "      <td>1260616</td>\n",
       "      <td>105</td>\n",
       "      <td>3</td>\n",
       "      <td>12</td>\n",
       "      <td>Guerrero\\r</td>\n",
       "      <td>12</td>\n",
       "      <td>Ayutla de los Libres\\r</td>\n",
       "      <td>1</td>\n",
       "      <td>...</td>\n",
       "      <td>NaN</td>\n",
       "      <td>NaN</td>\n",
       "      <td>NaN</td>\n",
       "      <td>214</td>\n",
       "      <td>0</td>\n",
       "      <td>R\\r</td>\n",
       "      <td>1</td>\n",
       "      <td>2180</td>\n",
       "      <td>7124</td>\n",
       "      <td>1.0</td>\n",
       "    </tr>\n",
       "    <tr>\n",
       "      <th>404709</th>\n",
       "      <td>2901063.03</td>\n",
       "      <td>2901063.03.01.02\\r</td>\n",
       "      <td>2901063</td>\n",
       "      <td>71</td>\n",
       "      <td>3</td>\n",
       "      <td>29</td>\n",
       "      <td>Tlaxcala\\r</td>\n",
       "      <td>10</td>\n",
       "      <td>Chiautempan\\r</td>\n",
       "      <td>1</td>\n",
       "      <td>...</td>\n",
       "      <td>NaN</td>\n",
       "      <td>NaN</td>\n",
       "      <td>NaN</td>\n",
       "      <td>87</td>\n",
       "      <td>0</td>\n",
       "      <td>U\\r</td>\n",
       "      <td>2</td>\n",
       "      <td>5370</td>\n",
       "      <td>16296</td>\n",
       "      <td>NaN</td>\n",
       "    </tr>\n",
       "    <tr>\n",
       "      <th>226226</th>\n",
       "      <td>2260201.08</td>\n",
       "      <td>2260201.08.01.02\\r</td>\n",
       "      <td>2260201</td>\n",
       "      <td>241</td>\n",
       "      <td>8</td>\n",
       "      <td>22</td>\n",
       "      <td>Queretaro\\r</td>\n",
       "      <td>16</td>\n",
       "      <td>San Juan del Río\\r</td>\n",
       "      <td>1</td>\n",
       "      <td>...</td>\n",
       "      <td>NaN</td>\n",
       "      <td>NaN</td>\n",
       "      <td>NaN</td>\n",
       "      <td>179</td>\n",
       "      <td>179</td>\n",
       "      <td>R\\r</td>\n",
       "      <td>2</td>\n",
       "      <td>4080</td>\n",
       "      <td>12524</td>\n",
       "      <td>1.0</td>\n",
       "    </tr>\n",
       "    <tr>\n",
       "      <th>175081</th>\n",
       "      <td>1301843.10</td>\n",
       "      <td>1301843.10.01.02\\r</td>\n",
       "      <td>1301843</td>\n",
       "      <td>53</td>\n",
       "      <td>10</td>\n",
       "      <td>13</td>\n",
       "      <td>Hidalgo\\r</td>\n",
       "      <td>10</td>\n",
       "      <td>Atitalaquia\\r</td>\n",
       "      <td>1</td>\n",
       "      <td>...</td>\n",
       "      <td>2.0</td>\n",
       "      <td>NaN</td>\n",
       "      <td>NaN</td>\n",
       "      <td>203</td>\n",
       "      <td>203</td>\n",
       "      <td>C\\r</td>\n",
       "      <td>2</td>\n",
       "      <td>2340</td>\n",
       "      <td>7350</td>\n",
       "      <td>1.0</td>\n",
       "    </tr>\n",
       "  </tbody>\n",
       "</table>\n",
       "<p>5 rows × 42 columns</p>\n",
       "</div>"
      ],
      "text/plain": [
       "            ID_VIV              ID_MUJ      UPM  PROG  VIV_SEL  CVE_ENT  \\\n",
       "299110  2160073.17  2160073.17.01.01\\r  2160073     9       17       21   \n",
       "166979  1260616.03  1260616.03.01.02\\r  1260616   105        3       12   \n",
       "404709  2901063.03  2901063.03.01.02\\r  2901063    71        3       29   \n",
       "226226  2260201.08  2260201.08.01.02\\r  2260201   241        8       22   \n",
       "175081  1301843.10  1301843.10.01.02\\r  1301843    53       10       13   \n",
       "\n",
       "            NOM_ENT  CVE_MUN                   NOM_MUN  HOGAR  ...  \\\n",
       "299110     Puebla\\r       45  Chalchicomula de Sesma\\r      1  ...   \n",
       "166979   Guerrero\\r       12    Ayutla de los Libres\\r      1  ...   \n",
       "404709   Tlaxcala\\r       10             Chiautempan\\r      1  ...   \n",
       "226226  Queretaro\\r       16        San Juan del Río\\r      1  ...   \n",
       "175081    Hidalgo\\r       10             Atitalaquia\\r      1  ...   \n",
       "\n",
       "        REN_INF_AD  FN_DIA  FN_MES  FAC_VIV  FAC_MUJ  DOMINIO  ESTRATO  \\\n",
       "299110         NaN     NaN     NaN      437        0      R\\r        1   \n",
       "166979         NaN     NaN     NaN      214        0      R\\r        1   \n",
       "404709         NaN     NaN     NaN       87        0      U\\r        2   \n",
       "226226         NaN     NaN     NaN      179      179      R\\r        2   \n",
       "175081         2.0     NaN     NaN      203      203      C\\r        2   \n",
       "\n",
       "        EST_DIS  UPM_DIS  COD_M15  \n",
       "299110     3820    11939      NaN  \n",
       "166979     2180     7124      1.0  \n",
       "404709     5370    16296      NaN  \n",
       "226226     4080    12524      1.0  \n",
       "175081     2340     7350      1.0  \n",
       "\n",
       "[5 rows x 42 columns]"
      ]
     },
     "execution_count": 9,
     "metadata": {},
     "output_type": "execute_result"
    }
   ],
   "source": [
    "ruta_parcial = \"../../conjunto_de_datos_endireh_2016_csv/conjunto_de_datos_tsdem_endireh_2016/conjunto_de_datos/conjunto_de_datos_tsdem_endireh_2016.csv\"\n",
    "\n",
    "seccionII = CargarPandasDataset(ruta_parcial)\n",
    "\n",
    "seccionII.iloc[random.choices(range(seccionII.shape[0]), k=5)]"
   ]
  },
  {
   "cell_type": "markdown",
   "metadata": {},
   "source": [
    "### Modificar columnas a OHE"
   ]
  },
  {
   "cell_type": "code",
   "execution_count": 10,
   "metadata": {},
   "outputs": [],
   "source": [
    "columnasOHE = ['P2_8', 'P2_9', 'P2_11', 'P2_12', 'P2_13']\n",
    "\n",
    "seccionII = ModificarColumnasValor(df=seccionII, cols=columnasOHE, valorR=2, valorN=0)"
   ]
  },
  {
   "cell_type": "markdown",
   "metadata": {},
   "source": [
    "### Política de datos faltantes"
   ]
  },
  {
   "cell_type": "code",
   "execution_count": 11,
   "metadata": {},
   "outputs": [],
   "source": [
    "seccionII = ModificarColumnasValor(df=seccionII, cols=['P2_14'], valorR=np.nan, valorN=13)\n",
    "\n",
    "columnasNaN = ['P2_8', 'P2_12', 'P2_15']\n",
    "\n",
    "seccionII = ModificarColumnasValor(df=seccionII, cols=columnasNaN, valorR=np.nan, valorN=9)"
   ]
  },
  {
   "cell_type": "markdown",
   "metadata": {},
   "source": [
    "### 2.2 Dividir por regiones de méxico.\n",
    "\n",
    "Para no dividir entre 32 entidades federativas, dividiré el país en principales regiones de México.\n",
    "Según la regionalización económica de la [CONABIO](http://www.conabio.gob.mx/informacion/metadata/gis/recomgw.xml?_xsl=/db/metadata/xsl/fgdc_html.xsl&_indent=no) existen un total de 8 regiones.\n",
    "   \n",
    "<img src=\"conabio.gob.mx/informacion/gis/layouts/recomgw.png\"\n",
    "     alt=\"Regiones económicas de Mexico\"\n",
    "     style=\"float: left; margin-right: 10px;\" />\n",
    "     \n",
    "Cada código representa a una región como se muestra en la siguiente tabla:\n",
    "\n",
    "|  Código  | Región              |\n",
    "|:--------:|:-------------------:|\n",
    "| 0        | Noroeste            |\n",
    "| 1        | Norte               |\n",
    "| 2        | Noreste             |\n",
    "| 3        | Centro Occidente    |\n",
    "| 4        | Centro Sur          |\n",
    "| 5        | Golfo de México     |\n",
    "| 6        | Pacífico Sur        |\n",
    "| 7        | Península de Yucatán|\n"
   ]
  },
  {
   "cell_type": "code",
   "execution_count": 12,
   "metadata": {},
   "outputs": [],
   "source": [
    "seccionII_reg = InsertarColumnaNueva(df=seccionII, nombreCol='REGION', numeroCol=12, funcion=RegionesDeMexico)"
   ]
  },
  {
   "cell_type": "markdown",
   "metadata": {},
   "source": [
    "### Borrar columnas"
   ]
  },
  {
   "cell_type": "code",
   "execution_count": 13,
   "metadata": {},
   "outputs": [],
   "source": [
    "labels = ['NOM_ENT', 'NOM_MUN', 'COD_RES', 'COD_RES_E', 'FN_DIA', 'FN_MES', 'NOMBRE', 'HOGAR', \n",
    "          'UPM', 'VIV_SEL', 'N_REN', 'REN_MUJ_EL', 'REN_INF_AD', 'FAC_VIV', 'FAC_MUJ',\n",
    "          'ESTRATO', 'EST_DIS', 'UPM_DIS', 'CODIGO', 'COD_M15', 'PROG', 'P2_16']\n",
    "\n",
    "seccionII_reg = BorrarColumnas(df=seccionII_reg, cols=labels)"
   ]
  },
  {
   "cell_type": "markdown",
   "metadata": {},
   "source": [
    "### Pasar columnas categóricas a numéricas"
   ]
  },
  {
   "cell_type": "code",
   "execution_count": 14,
   "metadata": {},
   "outputs": [],
   "source": [
    "lb = LabelEncoder()"
   ]
  },
  {
   "cell_type": "code",
   "execution_count": 15,
   "metadata": {},
   "outputs": [
    {
     "data": {
      "text/plain": [
       "array(['C\\r', 'R\\r', 'U\\r'], dtype=object)"
      ]
     },
     "execution_count": 15,
     "metadata": {},
     "output_type": "execute_result"
    }
   ],
   "source": [
    "seccionII_reg[['DOMINIO']] = seccionII_reg[['DOMINIO']].apply(transformColumn)\n",
    "lb.classes_ "
   ]
  },
  {
   "cell_type": "markdown",
   "metadata": {},
   "source": [
    "### Guardar dataset"
   ]
  },
  {
   "cell_type": "code",
   "execution_count": 16,
   "metadata": {},
   "outputs": [],
   "source": [
    "GuardarDataset(df=seccionII_reg, name='datasets/sec_ii.csv')"
   ]
  },
  {
   "cell_type": "markdown",
   "metadata": {},
   "source": [
    "## Seccion III"
   ]
  },
  {
   "cell_type": "markdown",
   "metadata": {},
   "source": [
    "### Cargar datos"
   ]
  },
  {
   "cell_type": "code",
   "execution_count": 17,
   "metadata": {},
   "outputs": [
    {
     "data": {
      "text/html": [
       "<div>\n",
       "<style scoped>\n",
       "    .dataframe tbody tr th:only-of-type {\n",
       "        vertical-align: middle;\n",
       "    }\n",
       "\n",
       "    .dataframe tbody tr th {\n",
       "        vertical-align: top;\n",
       "    }\n",
       "\n",
       "    .dataframe thead th {\n",
       "        text-align: right;\n",
       "    }\n",
       "</style>\n",
       "<table border=\"1\" class=\"dataframe\">\n",
       "  <thead>\n",
       "    <tr style=\"text-align: right;\">\n",
       "      <th></th>\n",
       "      <th>ID_VIV</th>\n",
       "      <th>ID_MUJ</th>\n",
       "      <th>UPM</th>\n",
       "      <th>PROG</th>\n",
       "      <th>VIV_SEL</th>\n",
       "      <th>CVE_ENT</th>\n",
       "      <th>NOM_ENT</th>\n",
       "      <th>CVE_MUN</th>\n",
       "      <th>NOM_MUN</th>\n",
       "      <th>HOGAR</th>\n",
       "      <th>...</th>\n",
       "      <th>P3_5</th>\n",
       "      <th>P3_6</th>\n",
       "      <th>P3_7</th>\n",
       "      <th>P3_8</th>\n",
       "      <th>FAC_VIV</th>\n",
       "      <th>FAC_MUJ</th>\n",
       "      <th>DOMINIO</th>\n",
       "      <th>ESTRATO</th>\n",
       "      <th>EST_DIS</th>\n",
       "      <th>UPM_DIS</th>\n",
       "    </tr>\n",
       "  </thead>\n",
       "  <tbody>\n",
       "    <tr>\n",
       "      <th>100964</th>\n",
       "      <td>3001124.01</td>\n",
       "      <td>3001124.01.01.01\\r</td>\n",
       "      <td>3001124</td>\n",
       "      <td>8</td>\n",
       "      <td>1</td>\n",
       "      <td>30</td>\n",
       "      <td>Veracruz de Ignacio de la Llave\\r</td>\n",
       "      <td>44</td>\n",
       "      <td>Córdoba\\r</td>\n",
       "      <td>1</td>\n",
       "      <td>...</td>\n",
       "      <td>NaN</td>\n",
       "      <td>NaN</td>\n",
       "      <td>NaN</td>\n",
       "      <td>B2\\r</td>\n",
       "      <td>518</td>\n",
       "      <td>518</td>\n",
       "      <td>U\\r</td>\n",
       "      <td>2</td>\n",
       "      <td>5730</td>\n",
       "      <td>16653</td>\n",
       "    </tr>\n",
       "    <tr>\n",
       "      <th>50271</th>\n",
       "      <td>1523706.05</td>\n",
       "      <td>1523706.05.01.02\\r</td>\n",
       "      <td>1523706</td>\n",
       "      <td>136</td>\n",
       "      <td>5</td>\n",
       "      <td>15</td>\n",
       "      <td>Estado de Mexico\\r</td>\n",
       "      <td>118</td>\n",
       "      <td>Zinacantepec\\r</td>\n",
       "      <td>1</td>\n",
       "      <td>...</td>\n",
       "      <td>NaN</td>\n",
       "      <td>NaN</td>\n",
       "      <td>NaN</td>\n",
       "      <td>A1\\r</td>\n",
       "      <td>1343</td>\n",
       "      <td>1343</td>\n",
       "      <td>U\\r</td>\n",
       "      <td>2</td>\n",
       "      <td>2670</td>\n",
       "      <td>8707</td>\n",
       "    </tr>\n",
       "    <tr>\n",
       "      <th>80686</th>\n",
       "      <td>2401537.04</td>\n",
       "      <td>2401537.04.01.01\\r</td>\n",
       "      <td>2401537</td>\n",
       "      <td>33</td>\n",
       "      <td>4</td>\n",
       "      <td>24</td>\n",
       "      <td>San Luis Potosi\\r</td>\n",
       "      <td>28</td>\n",
       "      <td>San Luis Potosí\\r</td>\n",
       "      <td>1</td>\n",
       "      <td>...</td>\n",
       "      <td>NaN</td>\n",
       "      <td>NaN</td>\n",
       "      <td>NaN</td>\n",
       "      <td>B1\\r</td>\n",
       "      <td>188</td>\n",
       "      <td>188</td>\n",
       "      <td>U\\r</td>\n",
       "      <td>3</td>\n",
       "      <td>4300</td>\n",
       "      <td>13449</td>\n",
       "    </tr>\n",
       "    <tr>\n",
       "      <th>32232</th>\n",
       "      <td>1002375.04</td>\n",
       "      <td>1002375.04.01.04\\r</td>\n",
       "      <td>1002375</td>\n",
       "      <td>80</td>\n",
       "      <td>4</td>\n",
       "      <td>10</td>\n",
       "      <td>Durango\\r</td>\n",
       "      <td>12</td>\n",
       "      <td>Lerdo\\r</td>\n",
       "      <td>1</td>\n",
       "      <td>...</td>\n",
       "      <td>NaN</td>\n",
       "      <td>NaN</td>\n",
       "      <td>NaN</td>\n",
       "      <td>A2\\r</td>\n",
       "      <td>169</td>\n",
       "      <td>508</td>\n",
       "      <td>U\\r</td>\n",
       "      <td>2</td>\n",
       "      <td>1680</td>\n",
       "      <td>6093</td>\n",
       "    </tr>\n",
       "    <tr>\n",
       "      <th>75290</th>\n",
       "      <td>2202515.10</td>\n",
       "      <td>2202515.10.01.02\\r</td>\n",
       "      <td>2202515</td>\n",
       "      <td>182</td>\n",
       "      <td>10</td>\n",
       "      <td>22</td>\n",
       "      <td>Queretaro\\r</td>\n",
       "      <td>5</td>\n",
       "      <td>Colón\\r</td>\n",
       "      <td>1</td>\n",
       "      <td>...</td>\n",
       "      <td>NaN</td>\n",
       "      <td>NaN</td>\n",
       "      <td>NaN</td>\n",
       "      <td>A1\\r</td>\n",
       "      <td>136</td>\n",
       "      <td>136</td>\n",
       "      <td>C\\r</td>\n",
       "      <td>2</td>\n",
       "      <td>4040</td>\n",
       "      <td>12441</td>\n",
       "    </tr>\n",
       "  </tbody>\n",
       "</table>\n",
       "<p>5 rows × 27 columns</p>\n",
       "</div>"
      ],
      "text/plain": [
       "            ID_VIV              ID_MUJ      UPM  PROG  VIV_SEL  CVE_ENT  \\\n",
       "100964  3001124.01  3001124.01.01.01\\r  3001124     8        1       30   \n",
       "50271   1523706.05  1523706.05.01.02\\r  1523706   136        5       15   \n",
       "80686   2401537.04  2401537.04.01.01\\r  2401537    33        4       24   \n",
       "32232   1002375.04  1002375.04.01.04\\r  1002375    80        4       10   \n",
       "75290   2202515.10  2202515.10.01.02\\r  2202515   182       10       22   \n",
       "\n",
       "                                  NOM_ENT  CVE_MUN            NOM_MUN  HOGAR  \\\n",
       "100964  Veracruz de Ignacio de la Llave\\r       44          Córdoba\\r      1   \n",
       "50271                  Estado de Mexico\\r      118     Zinacantepec\\r      1   \n",
       "80686                   San Luis Potosi\\r       28  San Luis Potosí\\r      1   \n",
       "32232                           Durango\\r       12            Lerdo\\r      1   \n",
       "75290                         Queretaro\\r        5            Colón\\r      1   \n",
       "\n",
       "        ... P3_5  P3_6  P3_7  P3_8  FAC_VIV  FAC_MUJ  DOMINIO  ESTRATO  \\\n",
       "100964  ...  NaN   NaN   NaN  B2\\r      518      518      U\\r        2   \n",
       "50271   ...  NaN   NaN   NaN  A1\\r     1343     1343      U\\r        2   \n",
       "80686   ...  NaN   NaN   NaN  B1\\r      188      188      U\\r        3   \n",
       "32232   ...  NaN   NaN   NaN  A2\\r      169      508      U\\r        2   \n",
       "75290   ...  NaN   NaN   NaN  A1\\r      136      136      C\\r        2   \n",
       "\n",
       "        EST_DIS  UPM_DIS  \n",
       "100964     5730    16653  \n",
       "50271      2670     8707  \n",
       "80686      4300    13449  \n",
       "32232      1680     6093  \n",
       "75290      4040    12441  \n",
       "\n",
       "[5 rows x 27 columns]"
      ]
     },
     "execution_count": 17,
     "metadata": {},
     "output_type": "execute_result"
    }
   ],
   "source": [
    "ruta_parcial = \"../../conjunto_de_datos_endireh_2016_csv/conjunto_de_datos_tb_sec_iii_endireh_2016/conjunto_de_datos/conjunto_de_datos_tb_sec_iii_endireh_2016.csv\"\n",
    "\n",
    "seccionIII = CargarPandasDataset(ruta_parcial)\n",
    "\n",
    "seccionIII.iloc[random.choices(range(seccionIII.shape[0]), k=5)]"
   ]
  },
  {
   "cell_type": "markdown",
   "metadata": {},
   "source": [
    "### Modificar columnas a OHE"
   ]
  },
  {
   "cell_type": "code",
   "execution_count": 18,
   "metadata": {},
   "outputs": [],
   "source": [
    "columnasOHE = ['P3_2', 'P3_4', 'P3_7']\n",
    "\n",
    "seccionIII = ModificarColumnasValor(df=seccionIII, cols=columnasOHE, valorR=2, valorN=0)"
   ]
  },
  {
   "cell_type": "markdown",
   "metadata": {},
   "source": [
    "### Política de datos faltantes"
   ]
  },
  {
   "cell_type": "code",
   "execution_count": 19,
   "metadata": {},
   "outputs": [],
   "source": [
    "columnasNaN = ['P3_2', 'P3_4', 'P3_7']\n",
    "\n",
    "seccionIII = ModificarColumnasValor(df=seccionIII, cols=columnasNaN, valorR=np.nan, valorN=2)\n",
    "\n",
    "columnasNaN = ['P3_3', 'P3_5', 'P3_6']\n",
    "\n",
    "seccionIII = ModificarColumnasValor(df=seccionIII, cols=columnasNaN, valorR=np.nan, valorN=9)"
   ]
  },
  {
   "cell_type": "markdown",
   "metadata": {},
   "source": [
    "### Borrar columnas"
   ]
  },
  {
   "cell_type": "code",
   "execution_count": 20,
   "metadata": {},
   "outputs": [],
   "source": [
    "labels = ['CVE_ENT', 'NOM_ENT', 'CVE_MUN', 'NOM_MUN', 'COD_RES', 'DOMINIO', 'UPM', 'VIV_SEL', 'PROG',\n",
    "          'N_REN', 'FAC_VIV', 'FAC_MUJ', 'ESTRATO', 'EST_DIS', 'UPM_DIS', 'P3_8']\n",
    "\n",
    "seccionIII = BorrarColumnas(df=seccionIII, cols=labels)"
   ]
  },
  {
   "cell_type": "markdown",
   "metadata": {},
   "source": [
    "### Pasar columnas categóricas a numéricas"
   ]
  },
  {
   "cell_type": "code",
   "execution_count": 21,
   "metadata": {},
   "outputs": [],
   "source": [
    "lb = LabelEncoder()"
   ]
  },
  {
   "cell_type": "code",
   "execution_count": 22,
   "metadata": {},
   "outputs": [
    {
     "data": {
      "text/plain": [
       "array(['A1\\r', 'A2\\r', 'B1\\r', 'B2\\r', 'C1\\r', 'C2\\r'], dtype=object)"
      ]
     },
     "execution_count": 22,
     "metadata": {},
     "output_type": "execute_result"
    }
   ],
   "source": [
    "seccionIII[['T_INSTRUM']] = seccionIII[['T_INSTRUM']].apply(transformColumn)\n",
    "lb.classes_ "
   ]
  },
  {
   "cell_type": "markdown",
   "metadata": {},
   "source": [
    "### Guardar dataset"
   ]
  },
  {
   "cell_type": "code",
   "execution_count": 23,
   "metadata": {},
   "outputs": [],
   "source": [
    "GuardarDataset(df=seccionIII, name='datasets/sec_iii.csv')"
   ]
  },
  {
   "cell_type": "markdown",
   "metadata": {},
   "source": [
    "## Seccion IX"
   ]
  },
  {
   "cell_type": "markdown",
   "metadata": {},
   "source": [
    "### Cargar datos"
   ]
  },
  {
   "cell_type": "code",
   "execution_count": 24,
   "metadata": {},
   "outputs": [
    {
     "data": {
      "text/html": [
       "<div>\n",
       "<style scoped>\n",
       "    .dataframe tbody tr th:only-of-type {\n",
       "        vertical-align: middle;\n",
       "    }\n",
       "\n",
       "    .dataframe tbody tr th {\n",
       "        vertical-align: top;\n",
       "    }\n",
       "\n",
       "    .dataframe thead th {\n",
       "        text-align: right;\n",
       "    }\n",
       "</style>\n",
       "<table border=\"1\" class=\"dataframe\">\n",
       "  <thead>\n",
       "    <tr style=\"text-align: right;\">\n",
       "      <th></th>\n",
       "      <th>ID_VIV</th>\n",
       "      <th>ID_MUJ</th>\n",
       "      <th>UPM</th>\n",
       "      <th>REN_M_ELE</th>\n",
       "      <th>VIV_SEL</th>\n",
       "      <th>PROG</th>\n",
       "      <th>HOGAR</th>\n",
       "      <th>DOMINIO</th>\n",
       "      <th>CVE_ENT</th>\n",
       "      <th>NOM_ENT</th>\n",
       "      <th>...</th>\n",
       "      <th>P9_8_10</th>\n",
       "      <th>P9_8_11</th>\n",
       "      <th>P9_8_12</th>\n",
       "      <th>P9_8_13</th>\n",
       "      <th>P9_8_14</th>\n",
       "      <th>FAC_VIV</th>\n",
       "      <th>FAC_MUJ</th>\n",
       "      <th>ESTRATO</th>\n",
       "      <th>UPM_DIS</th>\n",
       "      <th>EST_DIS</th>\n",
       "    </tr>\n",
       "  </thead>\n",
       "  <tbody>\n",
       "    <tr>\n",
       "      <th>58955</th>\n",
       "      <td>3200710.04</td>\n",
       "      <td>3200710.04.01.02\\r</td>\n",
       "      <td>3200710</td>\n",
       "      <td>2</td>\n",
       "      <td>4</td>\n",
       "      <td>96</td>\n",
       "      <td>1</td>\n",
       "      <td>U\\r</td>\n",
       "      <td>32</td>\n",
       "      <td>Zacatecas\\r</td>\n",
       "      <td>...</td>\n",
       "      <td>NaN</td>\n",
       "      <td>NaN</td>\n",
       "      <td>NaN</td>\n",
       "      <td>NaN</td>\n",
       "      <td>NaN</td>\n",
       "      <td>97</td>\n",
       "      <td>97</td>\n",
       "      <td>4</td>\n",
       "      <td>17743</td>\n",
       "      <td>6110</td>\n",
       "    </tr>\n",
       "    <tr>\n",
       "      <th>95837</th>\n",
       "      <td>2503587.02</td>\n",
       "      <td>2503587.02.01.02\\r</td>\n",
       "      <td>2503587</td>\n",
       "      <td>2</td>\n",
       "      <td>2</td>\n",
       "      <td>74</td>\n",
       "      <td>1</td>\n",
       "      <td>U\\r</td>\n",
       "      <td>25</td>\n",
       "      <td>Sinaloa\\r</td>\n",
       "      <td>...</td>\n",
       "      <td>NaN</td>\n",
       "      <td>NaN</td>\n",
       "      <td>NaN</td>\n",
       "      <td>NaN</td>\n",
       "      <td>NaN</td>\n",
       "      <td>201</td>\n",
       "      <td>201</td>\n",
       "      <td>3</td>\n",
       "      <td>14166</td>\n",
       "      <td>4480</td>\n",
       "    </tr>\n",
       "    <tr>\n",
       "      <th>33038</th>\n",
       "      <td>1002621.08</td>\n",
       "      <td>1002621.08.01.02\\r</td>\n",
       "      <td>1002621</td>\n",
       "      <td>2</td>\n",
       "      <td>8</td>\n",
       "      <td>193</td>\n",
       "      <td>1</td>\n",
       "      <td>C\\r</td>\n",
       "      <td>10</td>\n",
       "      <td>Durango\\r</td>\n",
       "      <td>...</td>\n",
       "      <td>NaN</td>\n",
       "      <td>NaN</td>\n",
       "      <td>NaN</td>\n",
       "      <td>NaN</td>\n",
       "      <td>NaN</td>\n",
       "      <td>119</td>\n",
       "      <td>237</td>\n",
       "      <td>2</td>\n",
       "      <td>6134</td>\n",
       "      <td>1700</td>\n",
       "    </tr>\n",
       "    <tr>\n",
       "      <th>21333</th>\n",
       "      <td>760629.07</td>\n",
       "      <td>0760629.07.01.02\\r</td>\n",
       "      <td>760629</td>\n",
       "      <td>2</td>\n",
       "      <td>7</td>\n",
       "      <td>96</td>\n",
       "      <td>1</td>\n",
       "      <td>R\\r</td>\n",
       "      <td>7</td>\n",
       "      <td>Chiapas\\r</td>\n",
       "      <td>...</td>\n",
       "      <td>NaN</td>\n",
       "      <td>NaN</td>\n",
       "      <td>NaN</td>\n",
       "      <td>NaN</td>\n",
       "      <td>NaN</td>\n",
       "      <td>375</td>\n",
       "      <td>375</td>\n",
       "      <td>1</td>\n",
       "      <td>4018</td>\n",
       "      <td>1290</td>\n",
       "    </tr>\n",
       "    <tr>\n",
       "      <th>32482</th>\n",
       "      <td>1060118.20</td>\n",
       "      <td>1060118.20.01.03\\r</td>\n",
       "      <td>1060118</td>\n",
       "      <td>3</td>\n",
       "      <td>20</td>\n",
       "      <td>30</td>\n",
       "      <td>1</td>\n",
       "      <td>R\\r</td>\n",
       "      <td>10</td>\n",
       "      <td>Durango\\r</td>\n",
       "      <td>...</td>\n",
       "      <td>2.0</td>\n",
       "      <td>2.0</td>\n",
       "      <td>NaN</td>\n",
       "      <td>NaN</td>\n",
       "      <td>NaN</td>\n",
       "      <td>155</td>\n",
       "      <td>309</td>\n",
       "      <td>1</td>\n",
       "      <td>6184</td>\n",
       "      <td>1730</td>\n",
       "    </tr>\n",
       "  </tbody>\n",
       "</table>\n",
       "<p>5 rows × 61 columns</p>\n",
       "</div>"
      ],
      "text/plain": [
       "           ID_VIV              ID_MUJ      UPM  REN_M_ELE  VIV_SEL  PROG  \\\n",
       "58955  3200710.04  3200710.04.01.02\\r  3200710          2        4    96   \n",
       "95837  2503587.02  2503587.02.01.02\\r  2503587          2        2    74   \n",
       "33038  1002621.08  1002621.08.01.02\\r  1002621          2        8   193   \n",
       "21333   760629.07  0760629.07.01.02\\r   760629          2        7    96   \n",
       "32482  1060118.20  1060118.20.01.03\\r  1060118          3       20    30   \n",
       "\n",
       "       HOGAR DOMINIO  CVE_ENT      NOM_ENT  ...  P9_8_10 P9_8_11  P9_8_12  \\\n",
       "58955      1     U\\r       32  Zacatecas\\r  ...      NaN     NaN      NaN   \n",
       "95837      1     U\\r       25    Sinaloa\\r  ...      NaN     NaN      NaN   \n",
       "33038      1     C\\r       10    Durango\\r  ...      NaN     NaN      NaN   \n",
       "21333      1     R\\r        7    Chiapas\\r  ...      NaN     NaN      NaN   \n",
       "32482      1     R\\r       10    Durango\\r  ...      2.0     2.0      NaN   \n",
       "\n",
       "       P9_8_13 P9_8_14  FAC_VIV  FAC_MUJ  ESTRATO  UPM_DIS  EST_DIS  \n",
       "58955      NaN     NaN       97       97        4    17743     6110  \n",
       "95837      NaN     NaN      201      201        3    14166     4480  \n",
       "33038      NaN     NaN      119      237        2     6134     1700  \n",
       "21333      NaN     NaN      375      375        1     4018     1290  \n",
       "32482      NaN     NaN      155      309        1     6184     1730  \n",
       "\n",
       "[5 rows x 61 columns]"
      ]
     },
     "execution_count": 24,
     "metadata": {},
     "output_type": "execute_result"
    }
   ],
   "source": [
    "ruta_parcial = \"../../conjunto_de_datos_endireh_2016_csv/conjunto_de_datos_tb_sec_ix_endireh_2016/conjunto_de_datos/conjunto_de_datos_tb_sec_ix_endireh_2016.csv\"\n",
    "\n",
    "seccionIX = CargarPandasDataset(ruta_parcial)\n",
    "\n",
    "seccionIX.iloc[random.choices(range(seccionIX.shape[0]), k=5)]"
   ]
  },
  {
   "cell_type": "markdown",
   "metadata": {},
   "source": [
    "### 2. Preservar los datos de las embarazadas\n",
    "\n",
    "Borrar los registros de todas aquellas que repondieron que no estuvieron embarazadas entre Octubre 2011 hasta finales 2016 o que no se tenga resgistro de su respuesta. La manera fácil es solo preservar los registros de las que respondieron que sí estuvieron embaraadas en ese periodo de tiempo."
   ]
  },
  {
   "cell_type": "code",
   "execution_count": 25,
   "metadata": {},
   "outputs": [],
   "source": [
    "seccionIX = seccionIX[seccionIX.P9_2 == 1]"
   ]
  },
  {
   "cell_type": "code",
   "execution_count": 26,
   "metadata": {},
   "outputs": [],
   "source": [
    "seccionIX.reset_index(drop=True, inplace=True) #reajustar el índice"
   ]
  },
  {
   "cell_type": "markdown",
   "metadata": {},
   "source": [
    "### 3. Agregar columnas"
   ]
  },
  {
   "cell_type": "markdown",
   "metadata": {},
   "source": [
    "En la pregunta 1 y 5, si todos los registros tienen valor 9 significa que no hay registro de la respuesta a esa pregunta, por ello se grega una columna que refleje esa información y todos los demás valores se hacen 0, así se preserva el _One Hot Encoding_."
   ]
  },
  {
   "cell_type": "markdown",
   "metadata": {},
   "source": [
    "#### Pregunta 1"
   ]
  },
  {
   "cell_type": "code",
   "execution_count": 27,
   "metadata": {},
   "outputs": [],
   "source": [
    "seccionIX.insert(24, \"P9_1_10\", 0.0) #agregar columna con ceros"
   ]
  },
  {
   "cell_type": "code",
   "execution_count": 28,
   "metadata": {},
   "outputs": [],
   "source": [
    "seccionIX.loc[seccionIX['P9_1_1']==9, 'P9_1_10'] = 1.0 #asignar los valores de columnas con 9"
   ]
  },
  {
   "cell_type": "code",
   "execution_count": 29,
   "metadata": {},
   "outputs": [],
   "source": [
    "seccionIX.loc[seccionIX['P9_1_1']==9, [F'P9_1_{i}' for i in range(1,10)]] = 0.0 #los valores con 9 se hacen 0"
   ]
  },
  {
   "cell_type": "markdown",
   "metadata": {},
   "source": [
    "#### Pregunta 5"
   ]
  },
  {
   "cell_type": "code",
   "execution_count": 30,
   "metadata": {},
   "outputs": [],
   "source": [
    "seccionIX.insert(41, \"P9_5_12\", 0.0) #agregar columna con ceros"
   ]
  },
  {
   "cell_type": "code",
   "execution_count": 31,
   "metadata": {},
   "outputs": [],
   "source": [
    "seccionIX.loc[seccionIX['P9_5_1']==9, 'P9_5_12']=1.0 #asignar los valores de columnas con 9"
   ]
  },
  {
   "cell_type": "code",
   "execution_count": 32,
   "metadata": {},
   "outputs": [],
   "source": [
    "seccionIX.loc[seccionIX['P9_5_1']==9, [F'P9_5_{i}' for i in range(1,12)]]=0.0 #los valores con 9 se hacen 0"
   ]
  },
  {
   "cell_type": "markdown",
   "metadata": {},
   "source": [
    "### Política de datos faltantes"
   ]
  },
  {
   "cell_type": "code",
   "execution_count": 33,
   "metadata": {},
   "outputs": [],
   "source": [
    "columnasNaN = ['P9_8_11', 'P9_8_13', 'P9_8_14']\n",
    "\n",
    "seccionIX = ModificarColumnasValor(df=seccionIX, cols=columnasNaN, valorR=np.nan, valorN=2)\n",
    "\n",
    "seccionIX = ModificarColumnasValor(df=seccionIX, cols=['P9_7'], valorR=np.nan, valorN=99)"
   ]
  },
  {
   "cell_type": "markdown",
   "metadata": {},
   "source": [
    "### 3.2 Crear clasificación\n",
    "\n",
    "A partir de las respuestas de la pregunta 8, crear columna que va a servir de clasificación para los niveles de violencia obstétrica."
   ]
  },
  {
   "cell_type": "code",
   "execution_count": 34,
   "metadata": {},
   "outputs": [],
   "source": [
    "seccionIX_cls = InsertarColumnaNueva(df=seccionIX, nombreCol='P9_8', numeroCol=58, funcion=Clasificacion)"
   ]
  },
  {
   "cell_type": "markdown",
   "metadata": {},
   "source": [
    "### Balancear clasificación\n",
    "\n",
    "Que estén en mismo procentaje cada clasificación. Ya que el 73% de las mujeres no sufrieron violencia y las otras dos clasificaciones tiene 13% y 14%, obtendré una porción similar (15% porciento del total) para las no embarazadas. Para ello, debo obtener el 20% de las no violentadas."
   ]
  },
  {
   "cell_type": "markdown",
   "metadata": {},
   "source": [
    "Obtener el 20% de las que no sufrieron violencia"
   ]
  },
  {
   "cell_type": "code",
   "execution_count": 35,
   "metadata": {},
   "outputs": [],
   "source": [
    "df_percent = seccionIX_cls.loc[seccionIX_cls['P9_8']==0].sample(frac=0.2)"
   ]
  },
  {
   "cell_type": "markdown",
   "metadata": {},
   "source": [
    "Concatenar con las clasificaciones restantes."
   ]
  },
  {
   "cell_type": "code",
   "execution_count": 36,
   "metadata": {},
   "outputs": [],
   "source": [
    "seccionIX_cls = pd.concat([df_percent, seccionIX_cls.loc[seccionIX_cls['P9_8']!=0]])"
   ]
  },
  {
   "cell_type": "code",
   "execution_count": 37,
   "metadata": {},
   "outputs": [],
   "source": [
    "seccionIX_cls.sort_index()\n",
    "seccionIX_cls.reset_index(drop=True, inplace=True) #reajustar el índice"
   ]
  },
  {
   "cell_type": "markdown",
   "metadata": {},
   "source": [
    "### Borrar columnas"
   ]
  },
  {
   "cell_type": "code",
   "execution_count": 38,
   "metadata": {},
   "outputs": [],
   "source": [
    "labels = ['NOM_ENT', 'NOM_MUN', 'COD_RES_MU', 'COD_RES', 'DOMINIO', 'P9_2', 'T_INSTRUM']\n",
    "labels.extend( [f'P9_8_{i}' for i in range(1,11)] )\n",
    "labels.append('P9_8_12')\n",
    "\n",
    "seccionIX_cls = BorrarColumnas(df=seccionIX_cls, cols=labels)"
   ]
  },
  {
   "cell_type": "markdown",
   "metadata": {},
   "source": [
    "### Hacer columnas One Hot Encoding"
   ]
  },
  {
   "cell_type": "code",
   "execution_count": 39,
   "metadata": {},
   "outputs": [],
   "source": [
    "columnasOHE = ['P9_8_11','P9_8_13'] \n",
    "\n",
    "seccionIX_cls = ModificarColumnasValor(df=seccionIX_cls, cols=columnasOHE, valorR=2, valorN=0)"
   ]
  },
  {
   "cell_type": "markdown",
   "metadata": {},
   "source": [
    "### Guardar dataset"
   ]
  },
  {
   "cell_type": "code",
   "execution_count": 40,
   "metadata": {},
   "outputs": [],
   "source": [
    "GuardarDataset(df=seccionIX_cls, name='datasets/sec_ix.csv')"
   ]
  },
  {
   "cell_type": "markdown",
   "metadata": {},
   "source": [
    "## Unir datasets"
   ]
  },
  {
   "cell_type": "code",
   "execution_count": 41,
   "metadata": {},
   "outputs": [],
   "source": [
    "result = pd.merge(seccionI, seccionII_reg, how=\"inner\")\n",
    "result = pd.merge(result, seccionIII, how=\"inner\")\n",
    "result = pd.merge(result, seccionIX_cls, how=\"inner\")"
   ]
  },
  {
   "cell_type": "markdown",
   "metadata": {},
   "source": [
    "### Borrar columnas\n",
    "\n",
    "ID_MUJ no es necesario ya que no necesitamos identificar a las mujeres"
   ]
  },
  {
   "cell_type": "code",
   "execution_count": 42,
   "metadata": {},
   "outputs": [],
   "source": [
    "result = BorrarColumnas(df=result, cols=['ID_MUJ'])"
   ]
  },
  {
   "cell_type": "markdown",
   "metadata": {},
   "source": [
    "## Acomodar columnas"
   ]
  },
  {
   "cell_type": "code",
   "execution_count": 43,
   "metadata": {},
   "outputs": [],
   "source": [
    "# las columnas en el orden actual\n",
    "columnas = list(result.columns)\n",
    "\n",
    "# columnas que pasare al inicio del dataframe\n",
    "columnas_al_principio = ['ID_VIV', 'VIV_SEL',\n",
    "                         'CVE_ENT', 'CVE_MUN', # si no se borran estas variables\n",
    "                         'REGION', 'PAREN', 'SEXO', 'EDAD', 'NIV', 'GRA', 'DOMINIO', \n",
    "                         'HOGAR', 'T_INSTRUM', 'UPM', 'REN_M_ELE', 'PROG', 'FAC_VIV', 'FAC_MUJ', \n",
    "                         'ESTRATO', 'UPM_DIS', 'EST_DIS']\n",
    "\n",
    "# quitar las columnas del lugar actual\n",
    "for i in columnas_al_principio:\n",
    "    columnas.remove(i)\n",
    "\n",
    "# pasar al inicio de las columnas\n",
    "columnas = columnas_al_principio+columnas\n",
    "    \n",
    "result = result[columnas]"
   ]
  },
  {
   "cell_type": "code",
   "execution_count": 44,
   "metadata": {},
   "outputs": [
    {
     "data": {
      "text/plain": [
       "Index(['ID_VIV', 'VIV_SEL', 'CVE_ENT', 'CVE_MUN', 'REGION', 'PAREN', 'SEXO',\n",
       "       'EDAD', 'NIV', 'GRA', 'DOMINIO', 'HOGAR', 'T_INSTRUM', 'UPM',\n",
       "       'REN_M_ELE', 'PROG', 'FAC_VIV', 'FAC_MUJ', 'ESTRATO', 'UPM_DIS',\n",
       "       'EST_DIS', 'P1_1', 'P1_2', 'P1_2_A', 'P1_3', 'P1_4_1', 'P1_4_2',\n",
       "       'P1_4_3', 'P1_4_4', 'P1_4_5', 'P1_4_6', 'P1_4_7', 'P1_4_8', 'P1_4_9',\n",
       "       'P1_5', 'P1_6', 'P1_7', 'P1_8', 'P1_9', 'P1_10_1', 'P1_10_2', 'P1_10_3',\n",
       "       'P1_10_4', 'P2_5', 'P2_6', 'P2_8', 'P2_9', 'P2_10', 'P2_11', 'P2_12',\n",
       "       'P2_13', 'P2_14', 'P2_15', 'P3_1', 'P3_2', 'P3_3', 'P3_4', 'P3_5',\n",
       "       'P3_6', 'P3_7', 'P9_1_1', 'P9_1_2', 'P9_1_3', 'P9_1_4', 'P9_1_5',\n",
       "       'P9_1_6', 'P9_1_7', 'P9_1_8', 'P9_1_9', 'P9_1_10', 'P9_3', 'P9_4_1',\n",
       "       'P9_4_2', 'P9_4_3', 'P9_5_1', 'P9_5_2', 'P9_5_3', 'P9_5_4', 'P9_5_5',\n",
       "       'P9_5_6', 'P9_5_7', 'P9_5_8', 'P9_5_9', 'P9_5_10', 'P9_5_11', 'P9_5_12',\n",
       "       'P9_6', 'P9_7', 'P9_8_11', 'P9_8_13', 'P9_8_14', 'P9_8'],\n",
       "      dtype='object')"
      ]
     },
     "execution_count": 44,
     "metadata": {},
     "output_type": "execute_result"
    }
   ],
   "source": [
    "result.columns"
   ]
  },
  {
   "cell_type": "markdown",
   "metadata": {},
   "source": [
    "### Guardar dataset"
   ]
  },
  {
   "cell_type": "code",
   "execution_count": 45,
   "metadata": {},
   "outputs": [],
   "source": [
    "GuardarDataset(df=result, name='datasets/endireh.csv')"
   ]
  }
 ],
 "metadata": {
  "kernelspec": {
   "display_name": "Python 3",
   "language": "python",
   "name": "python3"
  },
  "language_info": {
   "codemirror_mode": {
    "name": "ipython",
    "version": 3
   },
   "file_extension": ".py",
   "mimetype": "text/x-python",
   "name": "python",
   "nbconvert_exporter": "python",
   "pygments_lexer": "ipython3",
   "version": "3.6.9"
  }
 },
 "nbformat": 4,
 "nbformat_minor": 4
}
